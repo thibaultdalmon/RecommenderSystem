{
 "cells": [
  {
   "cell_type": "code",
   "execution_count": 92,
   "metadata": {},
   "outputs": [],
   "source": [
    "import torch\n",
    "import requests\n",
    "from tqdm import tqdm\n",
    "from torch import nn\n",
    "from torch.nn import Embedding, Linear, Bilinear, BatchNorm1d, ReLU, Dropout, MarginRankingLoss\n",
    "from torch.optim import Adam\n",
    "from torch.optim.lr_scheduler import ReduceLROnPlateau\n",
    "from torch.utils.data import DataLoader, WeightedRandomSampler, Dataset\n",
    "import numpy as np\n",
    "from matplotlib import pyplot as plt\n",
    "%matplotlib inline "
   ]
  },
  {
   "cell_type": "code",
   "execution_count": 84,
   "metadata": {},
   "outputs": [],
   "source": [
    "class PosNegData:\n",
    "\n",
    "    def __init__(self, pos_data, neg_data, weight):\n",
    "        self.pos = pos_data\n",
    "        self.neg = neg_data\n",
    "        self.weight = weight\n",
    "\n",
    "\n",
    "class Data:\n",
    "\n",
    "    def __init__(self, user_id, item_id, metadata):\n",
    "        self.user_id = torch.tensor(user_id)\n",
    "        self.item_id = torch.tensor(item_id)\n",
    "        self.metadata = torch.tensor(metadata)\n",
    "\n",
    "\n",
    "class DataGenerator(Dataset):\n",
    "\n",
    "    def __init__(self, state_history, reward_history, action_history):\n",
    "        self.state_history = state_history\n",
    "        self.reward_history = reward_history\n",
    "        self.action_history = action_history\n",
    "        self.data = []\n",
    "        self._init_pos_neg()\n",
    "\n",
    "    def __len__(self):\n",
    "        return len(self.data)\n",
    "\n",
    "    def __getitem__(self, idx):\n",
    "        return self.data[idx]\n",
    "\n",
    "    def _init_pos_neg(self):\n",
    "        for i, r in enumerate(self.reward_history):\n",
    "            if r > 0:\n",
    "                user_id = self.state_history[i][0][0]\n",
    "                action = self.action_history[i]\n",
    "                pos_data = Data(user_id=user_id, item_id=self.state_history[i][action][1],\n",
    "                                metadata=self.state_history[i][action][2:])\n",
    "                for j, state in enumerate(self.state_history[i]):\n",
    "                    item_id = state[1]\n",
    "                    metadata = state[2:]\n",
    "                    data = Data(user_id=user_id, item_id=item_id, metadata=metadata)\n",
    "                    if j != action:\n",
    "                        self.data.append(PosNegData(pos_data, data, 1))\n",
    "\n",
    "    def add_data(self, state, action, reward):\n",
    "        if reward > 0:\n",
    "            user_id = state[0][0]\n",
    "            pos_data = Data(user_id=user_id, item_id=state[action][1], metadata=state[action][2:])\n",
    "            for j, my_state in enumerate(state):\n",
    "                item_id = my_state[1]\n",
    "                metadata = my_state[2:]\n",
    "                data = Data(user_id=user_id, item_id=item_id, metadata=metadata)\n",
    "                if j != action:\n",
    "                    self.data.append(PosNegData(pos_data, data, 1))\n",
    "\n",
    "\n",
    "def collate_data_pos_neg(list_of_data):\n",
    "    raw_data = [data for data in list_of_data]\n",
    "    user_id_pos = torch.stack([data.pos.user_id for data in list_of_data])\n",
    "    item_id_pos = torch.stack([data.pos.item_id for data in list_of_data])\n",
    "    metadata_pos = torch.stack([data.pos.metadata for data in list_of_data])\n",
    "    user_id_neg = torch.stack([data.neg.user_id for data in list_of_data])\n",
    "    item_id_neg = torch.stack([data.neg.item_id for data in list_of_data])\n",
    "    metadata_neg = torch.stack([data.neg.metadata for data in list_of_data])\n",
    "    return {'user_id_pos': user_id_pos, 'item_id_pos': item_id_pos, 'metadata_pos': metadata_pos, 'raw_data': raw_data,\n",
    "            'user_id_neg': user_id_neg, 'item_id_neg': item_id_neg, 'metadata_neg': metadata_neg}\n",
    "\n",
    "\n",
    "def collate_data(list_of_data):\n",
    "    user_id = torch.stack([data.user_id for data in list_of_data])\n",
    "    item_id = torch.stack([data.item_id for data in list_of_data])\n",
    "    metadata = torch.stack([data.metadata for data in list_of_data])\n",
    "    return {'user_id': user_id, 'item_id': item_id, 'metadata': metadata}\n"
   ]
  },
  {
   "cell_type": "code",
   "execution_count": 85,
   "metadata": {},
   "outputs": [],
   "source": [
    "class Interface:\n",
    "\n",
    "    def __init__(self, args):\n",
    "        self.base_url = 'http://{}'.format(args.ip_address_env_2)\n",
    "        self.user_id = args.user_id\n",
    "        self.url_reset = '{}/reset'.format(self.base_url)\n",
    "        self.url_predict = '{}/predict'.format(self.base_url)\n",
    "\n",
    "        r = requests.get(url=self.url_reset, params={'user_id': self.user_id})\n",
    "        data = r.json()\n",
    "        self.state_history = data['state_history']\n",
    "        self.rewards_history = data['rewards_history']\n",
    "        self.action_history = data['action_history']\n",
    "\n",
    "        self.nb_items = data['nb_items']\n",
    "        self.nb_users = data['nb_users']\n",
    "        self.nb_variables = len(self.state_history[0][0]) - 2\n",
    "\n",
    "        self.next_state = data['next_state']\n",
    "\n",
    "    def reset(self):\n",
    "        r = requests.get(url=self.url_reset, params={'user_id': self.user_id})\n",
    "        data = r.json()\n",
    "\n",
    "        self.state_history = data['state_history']\n",
    "        self.rewards_history = data['rewards_history']\n",
    "        self.action_history = data['action_history']\n",
    "\n",
    "        self.nb_items = data['nb_items']\n",
    "        self.nb_users = data['nb_users']\n",
    "\n",
    "        self.next_state = data['next_state']\n",
    "\n",
    "    def predict(self, recommended_item):\n",
    "        r = requests.get(url=self.url_predict, params={'user_id': self.user_id, 'recommended_item': recommended_item})\n",
    "        data = r.json()\n",
    "\n",
    "        self.state_history.append(data['state'])\n",
    "        self.rewards_history.append(data['reward'])\n",
    "        self.action_history.append(recommended_item)\n",
    "\n",
    "        self.next_state = data['state']\n",
    "        return data['state'], data['reward']\n"
   ]
  },
  {
   "cell_type": "code",
   "execution_count": 95,
   "metadata": {},
   "outputs": [],
   "source": [
    "class SiameseNetwork(nn.Module):\n",
    "\n",
    "    def __init__(self, interface):\n",
    "        super(SiameseNetwork, self).__init__()\n",
    "\n",
    "        user_embedding_dim = 10\n",
    "        item_embedding_dim = 10\n",
    "        user_meta_dim = 30\n",
    "        item_meta_dim = 30\n",
    "        meta_meta_dim = 90\n",
    "        dense_1_dim = 128\n",
    "        dense_2_dim = 64\n",
    "        out_dim = 1\n",
    "\n",
    "        self.embedding_user = Embedding(num_embeddings=interface.nb_users, embedding_dim=user_embedding_dim)\n",
    "        self.embedding_item = Embedding(num_embeddings=interface.nb_items, embedding_dim=item_embedding_dim)\n",
    "        self.concat_user_meta = Bilinear(in1_features=user_embedding_dim, in2_features=interface.nb_variables, out_features=user_meta_dim)\n",
    "        self.concat_item_meta = Bilinear(in1_features=item_embedding_dim, in2_features=interface.nb_variables, out_features=item_meta_dim)\n",
    "        self.concat_meta_meta = Bilinear(in1_features=user_meta_dim, in2_features=item_meta_dim, out_features=meta_meta_dim)\n",
    "        self.batch_norm_0 = BatchNorm1d(num_features=meta_meta_dim)\n",
    "        self.dropout_0 = Dropout(0.5)\n",
    "        self.dense_1 = Linear(in_features=meta_meta_dim, out_features=dense_1_dim)\n",
    "        self.relu_1 = ReLU()\n",
    "        self.dropout_1 = Dropout(0.5)\n",
    "        self.batch_norm_1 = BatchNorm1d(num_features=dense_1_dim)\n",
    "        self.dense_2 = Linear(in_features=dense_1_dim, out_features=dense_2_dim)\n",
    "        self.relu_2 = ReLU()\n",
    "        self.dropout_2 = Dropout(0.5)\n",
    "        self.batch_norm_2 = BatchNorm1d(num_features=dense_2_dim)\n",
    "        self.dense_3 = Linear(in_features=dense_2_dim, out_features=out_dim)\n",
    "\n",
    "    def forward(self, user_id, item_id, metadata):\n",
    "        user_embedded = self.embedding_user(user_id).squeeze(dim=1)\n",
    "        item_embedded = self.embedding_item(item_id).squeeze(dim=1)\n",
    "        user_and_meta = self.concat_user_meta(user_embedded, metadata)\n",
    "        item_and_meta = self.concat_item_meta(item_embedded, metadata)\n",
    "        meta_and_meta = self.concat_meta_meta(user_and_meta, item_and_meta)\n",
    "        output = self.batch_norm_0(meta_and_meta)\n",
    "        # output = self.dropout_0(output)\n",
    "        output = self.dense_1(output)\n",
    "        output = self.relu_1(output)\n",
    "        output = self.batch_norm_1(output)\n",
    "        # output = self.dropout_1(output)\n",
    "        output = self.dense_2(output)\n",
    "        output = self.relu_2(output)\n",
    "        output = self.batch_norm_2(output)\n",
    "        # output = self.dropout_2(output)\n",
    "        output = self.dense_3(output)\n",
    "        return output\n"
   ]
  },
  {
   "cell_type": "code",
   "execution_count": 98,
   "metadata": {},
   "outputs": [],
   "source": [
    "class Trainer:\n",
    "\n",
    "    def __init__(self, interface, learning_rate=1e-3, validation_split=0.2, batch_size=64, margin=10, min_weight=1,\n",
    "                 num_samples=30):\n",
    "        self.interface = interface\n",
    "        self.network = SiameseNetwork(interface)\n",
    "        self.dataset = DataGenerator(interface.state_history, interface.rewards_history, interface.action_history)\n",
    "        self.batch_size = batch_size\n",
    "        self.validation_split = validation_split\n",
    "        self.min_weight = min_weight\n",
    "        self.num_samples = num_samples\n",
    "\n",
    "        self.loss = MarginRankingLoss(margin=margin, reduction='none')\n",
    "\n",
    "        self.optimizer = Adam(self.network.parameters(), lr=learning_rate)\n",
    "        self.lr_scheduler = ReduceLROnPlateau(self.optimizer, factor=0.3, patience=3, threshold=1e-3, verbose=True)\n",
    "\n",
    "    def reset(self):\n",
    "        self.train()\n",
    "\n",
    "    def train(self, n=600):\n",
    "        for _ in range(n):\n",
    "            weights = [data.weight for data in self.dataset]\n",
    "            sampler = WeightedRandomSampler(weights=weights, num_samples=self.num_samples, replacement=True)\n",
    "            data_loader = DataLoader(self.dataset, batch_size=self.batch_size, sampler=sampler,\n",
    "                                     collate_fn=collate_data_pos_neg, drop_last=True)\n",
    "            self.network.train()\n",
    "            cumloss = 0\n",
    "            for inputs in data_loader:\n",
    "                self.optimizer.zero_grad()\n",
    "                output_pos = self.network(inputs['user_id_pos'], inputs['item_id_pos'], inputs['metadata_pos'])\n",
    "                output_neg = self.network(inputs['user_id_neg'], inputs['item_id_neg'], inputs['metadata_neg'])\n",
    "                loss = self.loss(output_pos, output_neg, torch.ones(output_pos.shape))\n",
    "                for j, data in enumerate(inputs['raw_data']):\n",
    "                    data.weight = loss[j][0].item()\n",
    "                cumloss += loss.sum().item()\n",
    "                loss = loss.mean()\n",
    "                loss.backward()\n",
    "                self.optimizer.step()\n",
    "\n",
    "    def online(self):\n",
    "        self.network.eval()\n",
    "        l = []\n",
    "        my_state = self.interface.next_state\n",
    "        for m in self.interface.next_state:\n",
    "            data = Data(m[0], m[1], m[2:])\n",
    "            l.append(data)\n",
    "        input = collate_data(l)\n",
    "        output = self.network(input['user_id'], input['item_id'], input['metadata']).squeeze()\n",
    "        recommended_item = output.argmax().item()\n",
    "        state, reward = self.interface.predict(recommended_item)\n",
    "        self.dataset.add_data(my_state, recommended_item, reward)\n",
    "        self.train(n=3)\n",
    "        return reward\n"
   ]
  },
  {
   "cell_type": "code",
   "execution_count": 99,
   "metadata": {
    "collapsed": false
   },
   "outputs": [
    {
     "name": "stdout",
     "output_type": "stream",
     "text": [
      "\rIteration 9\tTotal Reward 3286.871150\tMean Reward 365.207906   "
     ]
    },
    {
     "name": "stdout",
     "output_type": "stream",
     "text": [
      "\rIteration 19\tTotal Reward 5641.949094\tMean Reward 296.944689   "
     ]
    },
    {
     "name": "stdout",
     "output_type": "stream",
     "text": [
      "\rIteration 29\tTotal Reward 7520.656052\tMean Reward 259.332967   "
     ]
    },
    {
     "name": "stdout",
     "output_type": "stream",
     "text": [
      "\rIteration 39\tTotal Reward 8965.423747\tMean Reward 229.882660   "
     ]
    },
    {
     "name": "stdout",
     "output_type": "stream",
     "text": [
      "\rIteration 49\tTotal Reward 10545.903939\tMean Reward 215.222529   "
     ]
    },
    {
     "name": "stdout",
     "output_type": "stream",
     "text": [
      "\rIteration 59\tTotal Reward 13822.223236\tMean Reward 234.274970   "
     ]
    },
    {
     "name": "stdout",
     "output_type": "stream",
     "text": [
      "\rIteration 69\tTotal Reward 15511.214460\tMean Reward 224.800210   \rIteration 79\tTotal Reward 16950.806617\tMean Reward 214.567172   "
     ]
    },
    {
     "name": "stdout",
     "output_type": "stream",
     "text": [
      "\rIteration 89\tTotal Reward 18758.860728\tMean Reward 210.773716   \rIteration 99\tTotal Reward 21332.849527\tMean Reward 215.483329   "
     ]
    },
    {
     "name": "stdout",
     "output_type": "stream",
     "text": [
      "Total reward : 21332.849526721246\nMean reward : 213.32849526721245\n"
     ]
    },
    {
     "name": "stdout",
     "output_type": "stream",
     "text": [
      "\rIteration 9\tTotal Reward 3403.208885\tMean Reward 378.134321   \rIteration 19\tTotal Reward 6297.796791\tMean Reward 331.462989   "
     ]
    },
    {
     "name": "stdout",
     "output_type": "stream",
     "text": [
      "\rIteration 29\tTotal Reward 7072.370903\tMean Reward 243.874859   \rIteration 39\tTotal Reward 9211.693835\tMean Reward 236.197278   "
     ]
    },
    {
     "name": "stdout",
     "output_type": "stream",
     "text": [
      "\rIteration 49\tTotal Reward 10951.130582\tMean Reward 223.492461   "
     ]
    },
    {
     "name": "stdout",
     "output_type": "stream",
     "text": [
      "\rIteration 59\tTotal Reward 14810.581123\tMean Reward 251.026799   "
     ]
    },
    {
     "name": "stdout",
     "output_type": "stream",
     "text": [
      "\rIteration 69\tTotal Reward 19164.067032\tMean Reward 277.740102   "
     ]
    },
    {
     "name": "stdout",
     "output_type": "stream",
     "text": [
      "\rIteration 79\tTotal Reward 23069.980930\tMean Reward 292.025075   "
     ]
    },
    {
     "name": "stdout",
     "output_type": "stream",
     "text": [
      "\rIteration 89\tTotal Reward 26001.174012\tMean Reward 292.148023   "
     ]
    },
    {
     "name": "stdout",
     "output_type": "stream",
     "text": [
      "\rIteration 99\tTotal Reward 28054.126503\tMean Reward 283.375015   Total reward : 28769.622474909112\nMean reward : 287.69622474909113\n"
     ]
    },
    {
     "name": "stdout",
     "output_type": "stream",
     "text": [
      "\rIteration 9\tTotal Reward 3611.522049\tMean Reward 401.280228   \rIteration 19\tTotal Reward 4496.180981\tMean Reward 236.641104   "
     ]
    },
    {
     "name": "stdout",
     "output_type": "stream",
     "text": [
      "\rIteration 29\tTotal Reward 4496.180981\tMean Reward 155.040723   "
     ]
    },
    {
     "name": "stdout",
     "output_type": "stream",
     "text": [
      "\rIteration 39\tTotal Reward 8158.488266\tMean Reward 209.192007   "
     ]
    },
    {
     "name": "stdout",
     "output_type": "stream",
     "text": [
      "\rIteration 49\tTotal Reward 9972.494015\tMean Reward 203.520286   \rIteration 59\tTotal Reward 11725.322430\tMean Reward 198.734278   "
     ]
    },
    {
     "name": "stdout",
     "output_type": "stream",
     "text": [
      "\rIteration 69\tTotal Reward 14473.723174\tMean Reward 209.764104   \rIteration 79\tTotal Reward 18930.264450\tMean Reward 239.623601   "
     ]
    },
    {
     "name": "stdout",
     "output_type": "stream",
     "text": [
      "\rIteration 89\tTotal Reward 19748.697870\tMean Reward 221.895482   "
     ]
    },
    {
     "name": "stdout",
     "output_type": "stream",
     "text": [
      "\rIteration 99\tTotal Reward 20657.556233\tMean Reward 208.662184   Total reward : 20657.55623252623\nMean reward : 206.5755623252623\n"
     ]
    },
    {
     "name": "stdout",
     "output_type": "stream",
     "text": [
      "\rIteration 9\tTotal Reward 3687.847310\tMean Reward 409.760812   \rIteration 19\tTotal Reward 5547.552915\tMean Reward 291.976469   "
     ]
    },
    {
     "name": "stdout",
     "output_type": "stream",
     "text": [
      "\rIteration 29\tTotal Reward 8093.085208\tMean Reward 279.071904   "
     ]
    },
    {
     "name": "stdout",
     "output_type": "stream",
     "text": [
      "\rIteration 39\tTotal Reward 9865.913800\tMean Reward 252.972149   \rIteration 49\tTotal Reward 14650.004611\tMean Reward 298.979686   "
     ]
    },
    {
     "name": "stdout",
     "output_type": "stream",
     "text": [
      "\rIteration 59\tTotal Reward 17170.235267\tMean Reward 291.020937   \rIteration 69\tTotal Reward 19969.035273\tMean Reward 289.406308   "
     ]
    },
    {
     "name": "stdout",
     "output_type": "stream",
     "text": [
      "\rIteration 79\tTotal Reward 21884.053990\tMean Reward 277.013342   "
     ]
    },
    {
     "name": "stdout",
     "output_type": "stream",
     "text": [
      "\rIteration 89\tTotal Reward 23712.195695\tMean Reward 266.429165   "
     ]
    },
    {
     "name": "stdout",
     "output_type": "stream",
     "text": [
      "\rIteration 99\tTotal Reward 25299.710291\tMean Reward 255.552629   Total reward : 25299.710291105544\nMean reward : 252.99710291105544\n"
     ]
    },
    {
     "name": "stdout",
     "output_type": "stream",
     "text": [
      "\rIteration 9\tTotal Reward 2415.703937\tMean Reward 268.411549   "
     ]
    },
    {
     "name": "stdout",
     "output_type": "stream",
     "text": [
      "\rIteration 19\tTotal Reward 3169.962643\tMean Reward 166.840139   "
     ]
    },
    {
     "name": "stdout",
     "output_type": "stream",
     "text": [
      "\rIteration 29\tTotal Reward 5915.362197\tMean Reward 203.978007   "
     ]
    },
    {
     "name": "stdout",
     "output_type": "stream",
     "text": [
      "\rIteration 39\tTotal Reward 10844.865592\tMean Reward 278.073477   "
     ]
    },
    {
     "name": "stdout",
     "output_type": "stream",
     "text": [
      "\rIteration 49\tTotal Reward 11599.124297\tMean Reward 236.716822   \rIteration 59\tTotal Reward 12280.208851\tMean Reward 208.139133   "
     ]
    },
    {
     "name": "stdout",
     "output_type": "stream",
     "text": [
      "\rIteration 69\tTotal Reward 14191.660261\tMean Reward 205.676236   "
     ]
    },
    {
     "name": "stdout",
     "output_type": "stream",
     "text": [
      "\rIteration 79\tTotal Reward 16768.247789\tMean Reward 212.256301   "
     ]
    },
    {
     "name": "stdout",
     "output_type": "stream",
     "text": [
      "\rIteration 89\tTotal Reward 22325.769994\tMean Reward 250.851348   \rIteration 99\tTotal Reward 24286.491350\tMean Reward 245.318094   "
     ]
    },
    {
     "name": "stdout",
     "output_type": "stream",
     "text": [
      "Total reward : 24286.491349742828\nMean reward : 242.8649134974283\n"
     ]
    },
    {
     "name": "stdout",
     "output_type": "stream",
     "text": [
      "\rIteration 9\tTotal Reward 1916.185683\tMean Reward 212.909520   "
     ]
    },
    {
     "name": "stdout",
     "output_type": "stream",
     "text": [
      "\rIteration 19\tTotal Reward 2820.472490\tMean Reward 148.445921   \rIteration 29\tTotal Reward 5453.869407\tMean Reward 188.064462   "
     ]
    },
    {
     "name": "stdout",
     "output_type": "stream",
     "text": [
      "\rIteration 39\tTotal Reward 8729.796714\tMean Reward 223.840941   \rIteration 49\tTotal Reward 10620.127147\tMean Reward 216.737289   "
     ]
    },
    {
     "name": "stdout",
     "output_type": "stream",
     "text": [
      "\rIteration 59\tTotal Reward 11524.413953\tMean Reward 195.329050   \rIteration 69\tTotal Reward 13393.570810\tMean Reward 194.109722   "
     ]
    },
    {
     "name": "stdout",
     "output_type": "stream",
     "text": [
      "\rIteration 79\tTotal Reward 16214.043300\tMean Reward 205.241054   \rIteration 89\tTotal Reward 16214.043300\tMean Reward 182.180262   "
     ]
    },
    {
     "name": "stdout",
     "output_type": "stream",
     "text": [
      "\rIteration 99\tTotal Reward 19922.437658\tMean Reward 201.236744   Total reward : 19922.437657603197\nMean reward : 199.22437657603197\n"
     ]
    },
    {
     "name": "stdout",
     "output_type": "stream",
     "text": [
      "\rIteration 9\tTotal Reward 1183.858107\tMean Reward 131.539790   "
     ]
    },
    {
     "name": "stdout",
     "output_type": "stream",
     "text": [
      "\rIteration 19\tTotal Reward 2466.230834\tMean Reward 129.801623   \rIteration 29\tTotal Reward 4595.665886\tMean Reward 158.471237   "
     ]
    },
    {
     "name": "stdout",
     "output_type": "stream",
     "text": [
      "\rIteration 39\tTotal Reward 5873.750425\tMean Reward 150.608985   \rIteration 49\tTotal Reward 7811.196810\tMean Reward 159.412180   "
     ]
    },
    {
     "name": "stdout",
     "output_type": "stream",
     "text": [
      "\rIteration 59\tTotal Reward 10116.214871\tMean Reward 171.461269   "
     ]
    },
    {
     "name": "stdout",
     "output_type": "stream",
     "text": [
      "\rIteration 69\tTotal Reward 11776.251356\tMean Reward 170.670310   \rIteration 79\tTotal Reward 13436.287841\tMean Reward 170.079593   "
     ]
    },
    {
     "name": "stdout",
     "output_type": "stream",
     "text": [
      "\rIteration 89\tTotal Reward 17200.205314\tMean Reward 193.260734   \rIteration 99\tTotal Reward 18549.804752\tMean Reward 187.371765   "
     ]
    },
    {
     "name": "stdout",
     "output_type": "stream",
     "text": [
      "Total reward : 18549.804751585834\nMean reward : 185.49804751585833\n"
     ]
    },
    {
     "name": "stdout",
     "output_type": "stream",
     "text": [
      "\rIteration 9\tTotal Reward 1450.562315\tMean Reward 161.173591   \rIteration 19\tTotal Reward 3277.749294\tMean Reward 172.513121   "
     ]
    },
    {
     "name": "stdout",
     "output_type": "stream",
     "text": [
      "\rIteration 29\tTotal Reward 6897.226961\tMean Reward 237.835412   \rIteration 39\tTotal Reward 10692.563793\tMean Reward 274.168302   "
     ]
    },
    {
     "name": "stdout",
     "output_type": "stream",
     "text": [
      "\rIteration 49\tTotal Reward 11671.131314\tMean Reward 238.186353   \rIteration 59\tTotal Reward 13956.892222\tMean Reward 236.557495   "
     ]
    },
    {
     "name": "stdout",
     "output_type": "stream",
     "text": [
      "\rIteration 69\tTotal Reward 16835.877171\tMean Reward 243.998220   "
     ]
    },
    {
     "name": "stdout",
     "output_type": "stream",
     "text": [
      "\rIteration 79\tTotal Reward 19433.177818\tMean Reward 245.989593   \rIteration 89\tTotal Reward 21170.550041\tMean Reward 237.871349   "
     ]
    },
    {
     "name": "stdout",
     "output_type": "stream",
     "text": [
      "\rIteration 99\tTotal Reward 23248.733526\tMean Reward 234.835692   Total reward : 23248.733525890075\nMean reward : 232.48733525890074\n"
     ]
    },
    {
     "name": "stdout",
     "output_type": "stream",
     "text": [
      "\rIteration 9\tTotal Reward 804.783257\tMean Reward 89.420362   \rIteration 19\tTotal Reward 4731.271910\tMean Reward 249.014311   "
     ]
    },
    {
     "name": "stdout",
     "output_type": "stream",
     "text": [
      "\rIteration 29\tTotal Reward 6143.478494\tMean Reward 211.844086   \rIteration 39\tTotal Reward 10482.196686\tMean Reward 268.774274   "
     ]
    },
    {
     "name": "stdout",
     "output_type": "stream",
     "text": [
      "\rIteration 49\tTotal Reward 12118.390490\tMean Reward 247.314092   "
     ]
    },
    {
     "name": "stdout",
     "output_type": "stream",
     "text": [
      "\rIteration 59\tTotal Reward 15196.861765\tMean Reward 257.573928   "
     ]
    },
    {
     "name": "stdout",
     "output_type": "stream",
     "text": [
      "\rIteration 69\tTotal Reward 17296.308717\tMean Reward 250.671141   "
     ]
    },
    {
     "name": "stdout",
     "output_type": "stream",
     "text": [
      "\rIteration 79\tTotal Reward 20596.062068\tMean Reward 260.709646   "
     ]
    },
    {
     "name": "stdout",
     "output_type": "stream",
     "text": [
      "\rIteration 89\tTotal Reward 23007.632892\tMean Reward 258.512729   \rIteration 99\tTotal Reward 23933.692124\tMean Reward 241.754466   "
     ]
    },
    {
     "name": "stdout",
     "output_type": "stream",
     "text": [
      "Total reward : 23933.692124281795\nMean reward : 239.33692124281797\n"
     ]
    },
    {
     "name": "stdout",
     "output_type": "stream",
     "text": [
      "\rIteration 9\tTotal Reward 2569.749506\tMean Reward 285.527723   \rIteration 19\tTotal Reward 3457.267422\tMean Reward 181.961443   "
     ]
    },
    {
     "name": "stdout",
     "output_type": "stream",
     "text": [
      "\rIteration 29\tTotal Reward 7558.717222\tMean Reward 260.645421   "
     ]
    },
    {
     "name": "stdout",
     "output_type": "stream",
     "text": [
      "\rIteration 39\tTotal Reward 9308.409034\tMean Reward 238.677155   "
     ]
    },
    {
     "name": "stdout",
     "output_type": "stream",
     "text": [
      "\rIteration 49\tTotal Reward 12774.128280\tMean Reward 260.696496   \rIteration 59\tTotal Reward 14490.046601\tMean Reward 245.594010   "
     ]
    },
    {
     "name": "stdout",
     "output_type": "stream",
     "text": [
      "\rIteration 69\tTotal Reward 18076.793169\tMean Reward 261.982510   "
     ]
    },
    {
     "name": "stdout",
     "output_type": "stream",
     "text": [
      "\rIteration 79\tTotal Reward 23676.246046\tMean Reward 299.699317   \rIteration 89\tTotal Reward 28536.678091\tMean Reward 320.636832   "
     ]
    },
    {
     "name": "stdout",
     "output_type": "stream",
     "text": [
      "\rIteration 99\tTotal Reward 28536.678091\tMean Reward 288.249274   Total reward : 28536.678091375456\nMean reward : 285.36678091375455\n"
     ]
    },
    {
     "name": "stdout",
     "output_type": "stream",
     "text": [
      "\rIteration 9\tTotal Reward 3284.259108\tMean Reward 364.917679   \rIteration 19\tTotal Reward 5995.857074\tMean Reward 315.571425   "
     ]
    },
    {
     "name": "stdout",
     "output_type": "stream",
     "text": [
      "\rIteration 29\tTotal Reward 8647.616988\tMean Reward 298.193689   \rIteration 39\tTotal Reward 11239.934825\tMean Reward 288.203457   "
     ]
    },
    {
     "name": "stdout",
     "output_type": "stream",
     "text": [
      "\rIteration 49\tTotal Reward 13852.434398\tMean Reward 282.702743   "
     ]
    },
    {
     "name": "stdout",
     "output_type": "stream",
     "text": [
      "\rIteration 59\tTotal Reward 15468.621420\tMean Reward 262.180024   "
     ]
    },
    {
     "name": "stdout",
     "output_type": "stream",
     "text": [
      "\rIteration 69\tTotal Reward 18988.363124\tMean Reward 275.193668   \rIteration 79\tTotal Reward 22155.547776\tMean Reward 280.449972   "
     ]
    },
    {
     "name": "stdout",
     "output_type": "stream",
     "text": [
      "\rIteration 89\tTotal Reward 23843.801598\tMean Reward 267.907883   \rIteration 99\tTotal Reward 25331.454267\tMean Reward 255.873275   "
     ]
    },
    {
     "name": "stdout",
     "output_type": "stream",
     "text": [
      "Total reward : 26255.700018349045\nMean reward : 262.55700018349046\n"
     ]
    },
    {
     "name": "stdout",
     "output_type": "stream",
     "text": [
      "\rIteration 9\tTotal Reward 530.219271\tMean Reward 58.913252   "
     ]
    },
    {
     "name": "stdout",
     "output_type": "stream",
     "text": [
      "\rIteration 19\tTotal Reward 730.457420\tMean Reward 38.445127   "
     ]
    },
    {
     "name": "stdout",
     "output_type": "stream",
     "text": [
      "\rIteration 29\tTotal Reward 730.457420\tMean Reward 25.188187   \rIteration 39\tTotal Reward 830.576495\tMean Reward 21.296833   "
     ]
    },
    {
     "name": "stdout",
     "output_type": "stream",
     "text": [
      "\rIteration 49\tTotal Reward 830.576495\tMean Reward 16.950541   \rIteration 59\tTotal Reward 992.478781\tMean Reward 16.821674   "
     ]
    },
    {
     "name": "stdout",
     "output_type": "stream",
     "text": [
      "\rIteration 69\tTotal Reward 1923.850341\tMean Reward 27.881889   "
     ]
    },
    {
     "name": "stdout",
     "output_type": "stream",
     "text": [
      "\rIteration 79\tTotal Reward 2085.752627\tMean Reward 26.401932   \rIteration 89\tTotal Reward 2927.160224\tMean Reward 32.889441   "
     ]
    },
    {
     "name": "stdout",
     "output_type": "stream",
     "text": [
      "\rIteration 99\tTotal Reward 3651.481976\tMean Reward 36.883656   Total reward : 3651.4819763717046\nMean reward : 36.51481976371704\n"
     ]
    },
    {
     "name": "stdout",
     "output_type": "stream",
     "text": [
      "\rIteration 9\tTotal Reward 3274.650453\tMean Reward 363.850050   \rIteration 19\tTotal Reward 6550.155681\tMean Reward 344.745036   "
     ]
    },
    {
     "name": "stdout",
     "output_type": "stream",
     "text": [
      "\rIteration 29\tTotal Reward 11142.810614\tMean Reward 384.234849   \rIteration 39\tTotal Reward 15230.307901\tMean Reward 390.520715   "
     ]
    },
    {
     "name": "stdout",
     "output_type": "stream",
     "text": [
      "\rIteration 49\tTotal Reward 20002.597539\tMean Reward 408.216276   "
     ]
    },
    {
     "name": "stdout",
     "output_type": "stream",
     "text": [
      "\rIteration 59\tTotal Reward 23725.025620\tMean Reward 402.119078   \rIteration 69\tTotal Reward 26458.981433\tMean Reward 383.463499   "
     ]
    },
    {
     "name": "stdout",
     "output_type": "stream",
     "text": [
      "\rIteration 79\tTotal Reward 29307.580091\tMean Reward 370.982026   "
     ]
    },
    {
     "name": "stdout",
     "output_type": "stream",
     "text": [
      "\rIteration 89\tTotal Reward 31207.931318\tMean Reward 350.650914   \rIteration 99\tTotal Reward 33767.936510\tMean Reward 341.090268   "
     ]
    },
    {
     "name": "stdout",
     "output_type": "stream",
     "text": [
      "Total reward : 33767.93651034104\nMean reward : 337.67936510341036\n"
     ]
    },
    {
     "name": "stdout",
     "output_type": "stream",
     "text": [
      "\rIteration 9\tTotal Reward 1895.498499\tMean Reward 210.610944   "
     ]
    },
    {
     "name": "stdout",
     "output_type": "stream",
     "text": [
      "\rIteration 19\tTotal Reward 5754.759559\tMean Reward 302.882082   "
     ]
    },
    {
     "name": "stdout",
     "output_type": "stream",
     "text": [
      "\rIteration 29\tTotal Reward 8477.586520\tMean Reward 292.330570   \rIteration 39\tTotal Reward 8477.586520\tMean Reward 217.374013   "
     ]
    },
    {
     "name": "stdout",
     "output_type": "stream",
     "text": [
      "\rIteration 49\tTotal Reward 11265.353913\tMean Reward 229.905182   "
     ]
    },
    {
     "name": "stdout",
     "output_type": "stream",
     "text": [
      "\rIteration 59\tTotal Reward 13888.401262\tMean Reward 235.396632   \rIteration 69\tTotal Reward 15761.274213\tMean Reward 228.424264   "
     ]
    },
    {
     "name": "stdout",
     "output_type": "stream",
     "text": [
      "\rIteration 79\tTotal Reward 15761.274213\tMean Reward 199.509800   \rIteration 89\tTotal Reward 16756.000224\tMean Reward 188.269665   "
     ]
    },
    {
     "name": "stdout",
     "output_type": "stream",
     "text": [
      "\rIteration 99\tTotal Reward 23434.719275\tMean Reward 236.714336   Total reward : 24393.50669891984\nMean reward : 243.9350669891984\n"
     ]
    },
    {
     "name": "stdout",
     "output_type": "stream",
     "text": [
      "\rIteration 9\tTotal Reward 663.990923\tMean Reward 73.776769   "
     ]
    },
    {
     "name": "stdout",
     "output_type": "stream",
     "text": [
      "\rIteration 19\tTotal Reward 1567.651324\tMean Reward 82.507964   "
     ]
    },
    {
     "name": "stdout",
     "output_type": "stream",
     "text": [
      "\rIteration 29\tTotal Reward 4865.830789\tMean Reward 167.787269   "
     ]
    },
    {
     "name": "stdout",
     "output_type": "stream",
     "text": [
      "\rIteration 39\tTotal Reward 7559.105451\tMean Reward 193.823217   "
     ]
    },
    {
     "name": "stdout",
     "output_type": "stream",
     "text": [
      "\rIteration 49\tTotal Reward 11148.570600\tMean Reward 227.521849   "
     ]
    },
    {
     "name": "stdout",
     "output_type": "stream",
     "text": [
      "\rIteration 59\tTotal Reward 12026.394101\tMean Reward 203.837188   "
     ]
    },
    {
     "name": "stdout",
     "output_type": "stream",
     "text": [
      "\rIteration 69\tTotal Reward 14659.864606\tMean Reward 212.461806   "
     ]
    },
    {
     "name": "stdout",
     "output_type": "stream",
     "text": [
      "\rIteration 79\tTotal Reward 16665.064913\tMean Reward 210.950189   "
     ]
    },
    {
     "name": "stdout",
     "output_type": "stream",
     "text": [
      "\rIteration 89\tTotal Reward 20264.017605\tMean Reward 227.685591   "
     ]
    },
    {
     "name": "stdout",
     "output_type": "stream",
     "text": [
      "\rIteration 99\tTotal Reward 21167.678006\tMean Reward 213.814929   Total reward : 21167.678006035116\nMean reward : 211.67678006035115\n"
     ]
    },
    {
     "name": "stdout",
     "output_type": "stream",
     "text": [
      "\rIteration 9\tTotal Reward 2875.057541\tMean Reward 319.450838   "
     ]
    },
    {
     "name": "stdout",
     "output_type": "stream",
     "text": [
      "\rIteration 19\tTotal Reward 5750.115082\tMean Reward 302.637636   "
     ]
    },
    {
     "name": "stdout",
     "output_type": "stream",
     "text": [
      "\rIteration 29\tTotal Reward 9998.048217\tMean Reward 344.760283   \rIteration 39\tTotal Reward 13242.243379\tMean Reward 339.544702   "
     ]
    },
    {
     "name": "stdout",
     "output_type": "stream",
     "text": [
      "\rIteration 49\tTotal Reward 15158.948406\tMean Reward 309.366294   "
     ]
    },
    {
     "name": "stdout",
     "output_type": "stream",
     "text": [
      "\rIteration 59\tTotal Reward 16931.728313\tMean Reward 286.978446   "
     ]
    },
    {
     "name": "stdout",
     "output_type": "stream",
     "text": [
      "\rIteration 69\tTotal Reward 18778.346776\tMean Reward 272.149953   "
     ]
    },
    {
     "name": "stdout",
     "output_type": "stream",
     "text": [
      "\rIteration 79\tTotal Reward 19662.860734\tMean Reward 248.896971   "
     ]
    },
    {
     "name": "stdout",
     "output_type": "stream",
     "text": [
      "\rIteration 89\tTotal Reward 23020.154440\tMean Reward 258.653421   "
     ]
    },
    {
     "name": "stdout",
     "output_type": "stream",
     "text": [
      "\rIteration 99\tTotal Reward 25396.726756\tMean Reward 256.532593   Total reward : 26055.257001861828\nMean reward : 260.55257001861827\n"
     ]
    },
    {
     "name": "stdout",
     "output_type": "stream",
     "text": [
      "\rIteration 9\tTotal Reward 775.292064\tMean Reward 86.143563   \rIteration 19\tTotal Reward 2948.743989\tMean Reward 155.197052   "
     ]
    },
    {
     "name": "stdout",
     "output_type": "stream",
     "text": [
      "\rIteration 29\tTotal Reward 3576.193010\tMean Reward 123.317000   \rIteration 39\tTotal Reward 4203.642031\tMean Reward 107.785693   "
     ]
    },
    {
     "name": "stdout",
     "output_type": "stream",
     "text": [
      "\rIteration 49\tTotal Reward 4203.642031\tMean Reward 85.788613   "
     ]
    },
    {
     "name": "stdout",
     "output_type": "stream",
     "text": [
      "\rIteration 59\tTotal Reward 5606.383117\tMean Reward 95.023443   "
     ]
    },
    {
     "name": "stdout",
     "output_type": "stream",
     "text": [
      "\rIteration 69\tTotal Reward 7651.035850\tMean Reward 110.884578   "
     ]
    },
    {
     "name": "stdout",
     "output_type": "stream",
     "text": [
      "\rIteration 79\tTotal Reward 10159.136511\tMean Reward 128.596665   "
     ]
    },
    {
     "name": "stdout",
     "output_type": "stream",
     "text": [
      "\rIteration 89\tTotal Reward 11648.002146\tMean Reward 130.876429   "
     ]
    },
    {
     "name": "stdout",
     "output_type": "stream",
     "text": [
      "\rIteration 99\tTotal Reward 13086.543180\tMean Reward 132.187305   Total reward : 13086.5431795087\nMean reward : 130.865431795087\n"
     ]
    },
    {
     "name": "stdout",
     "output_type": "stream",
     "text": [
      "\rIteration 9\tTotal Reward 848.035515\tMean Reward 94.226168   \rIteration 19\tTotal Reward 1696.071030\tMean Reward 89.266896   "
     ]
    },
    {
     "name": "stdout",
     "output_type": "stream",
     "text": [
      "\rIteration 29\tTotal Reward 2627.782588\tMean Reward 90.613193   "
     ]
    },
    {
     "name": "stdout",
     "output_type": "stream",
     "text": [
      "\rIteration 39\tTotal Reward 5339.241220\tMean Reward 136.903621   "
     ]
    },
    {
     "name": "stdout",
     "output_type": "stream",
     "text": [
      "\rIteration 49\tTotal Reward 7848.332570\tMean Reward 160.170052   "
     ]
    },
    {
     "name": "stdout",
     "output_type": "stream",
     "text": [
      "\rIteration 59\tTotal Reward 11177.251356\tMean Reward 189.444938   "
     ]
    },
    {
     "name": "stdout",
     "output_type": "stream",
     "text": [
      "\rIteration 69\tTotal Reward 14224.471638\tMean Reward 206.151763   "
     ]
    },
    {
     "name": "stdout",
     "output_type": "stream",
     "text": [
      "\rIteration 79\tTotal Reward 15590.335895\tMean Reward 197.346024   "
     ]
    },
    {
     "name": "stdout",
     "output_type": "stream",
     "text": [
      "\rIteration 89\tTotal Reward 17503.872593\tMean Reward 196.672726   "
     ]
    },
    {
     "name": "stdout",
     "output_type": "stream",
     "text": [
      "\rIteration 99\tTotal Reward 20240.791182\tMean Reward 204.452436   Total reward : 20240.791181850847\nMean reward : 202.40791181850847\n"
     ]
    },
    {
     "name": "stdout",
     "output_type": "stream",
     "text": [
      "\rIteration 9\tTotal Reward 1644.483551\tMean Reward 182.720395   "
     ]
    },
    {
     "name": "stdout",
     "output_type": "stream",
     "text": [
      "\rIteration 19\tTotal Reward 4136.762144\tMean Reward 217.724323   "
     ]
    },
    {
     "name": "stdout",
     "output_type": "stream",
     "text": [
      "\rIteration 29\tTotal Reward 5502.522239\tMean Reward 189.742146   \rIteration 39\tTotal Reward 7135.544183\tMean Reward 182.962671   "
     ]
    },
    {
     "name": "stdout",
     "output_type": "stream",
     "text": [
      "\rIteration 49\tTotal Reward 8545.447472\tMean Reward 174.396887   "
     ]
    },
    {
     "name": "stdout",
     "output_type": "stream",
     "text": [
      "\rIteration 59\tTotal Reward 8545.447472\tMean Reward 144.838093   "
     ]
    },
    {
     "name": "stdout",
     "output_type": "stream",
     "text": [
      "\rIteration 69\tTotal Reward 8545.447472\tMean Reward 123.847065   \rIteration 79\tTotal Reward 13279.201516\tMean Reward 168.091158   "
     ]
    },
    {
     "name": "stdout",
     "output_type": "stream",
     "text": [
      "\rIteration 89\tTotal Reward 16540.769471\tMean Reward 185.851342   "
     ]
    },
    {
     "name": "stdout",
     "output_type": "stream",
     "text": [
      "\rIteration 99\tTotal Reward 19038.442366\tMean Reward 192.307499   Total reward : 19038.44236634741\nMean reward : 190.3844236634741\n"
     ]
    },
    {
     "name": "stdout",
     "output_type": "stream",
     "text": [
      "\rIteration 9\tTotal Reward 2942.120165\tMean Reward 326.902241   \rIteration 19\tTotal Reward 6413.686960\tMean Reward 337.562472   "
     ]
    },
    {
     "name": "stdout",
     "output_type": "stream",
     "text": [
      "\rIteration 29\tTotal Reward 8328.633248\tMean Reward 287.194250   "
     ]
    },
    {
     "name": "stdout",
     "output_type": "stream",
     "text": [
      "\rIteration 39\tTotal Reward 11198.327287\tMean Reward 287.136597   \rIteration 49\tTotal Reward 16796.268730\tMean Reward 342.780994   "
     ]
    },
    {
     "name": "stdout",
     "output_type": "stream",
     "text": [
      "\rIteration 59\tTotal Reward 19668.688162\tMean Reward 333.367596   \rIteration 69\tTotal Reward 21352.561794\tMean Reward 309.457417   "
     ]
    },
    {
     "name": "stdout",
     "output_type": "stream",
     "text": [
      "\rIteration 79\tTotal Reward 22217.381633\tMean Reward 281.232679   "
     ]
    },
    {
     "name": "stdout",
     "output_type": "stream",
     "text": [
      "\rIteration 89\tTotal Reward 25480.695850\tMean Reward 286.299953   "
     ]
    },
    {
     "name": "stdout",
     "output_type": "stream",
     "text": [
      "\rIteration 99\tTotal Reward 28350.389889\tMean Reward 286.367575   Total reward : 29186.91319103035\nMean reward : 291.8691319103035\n"
     ]
    },
    {
     "name": "stdout",
     "output_type": "stream",
     "text": [
      "\rIteration 9\tTotal Reward 2440.683367\tMean Reward 271.187041   \rIteration 19\tTotal Reward 5938.765481\tMean Reward 312.566604   "
     ]
    },
    {
     "name": "stdout",
     "output_type": "stream",
     "text": [
      "\rIteration 29\tTotal Reward 8707.880872\tMean Reward 300.271754   \rIteration 39\tTotal Reward 10431.477998\tMean Reward 267.473795   "
     ]
    },
    {
     "name": "stdout",
     "output_type": "stream",
     "text": [
      "\rIteration 49\tTotal Reward 15656.154345\tMean Reward 319.513354   "
     ]
    },
    {
     "name": "stdout",
     "output_type": "stream",
     "text": [
      "\rIteration 59\tTotal Reward 21689.721166\tMean Reward 367.622393   "
     ]
    },
    {
     "name": "stdout",
     "output_type": "stream",
     "text": [
      "\rIteration 69\tTotal Reward 23472.922153\tMean Reward 340.187278   \rIteration 79\tTotal Reward 25196.519279\tMean Reward 318.943282   "
     ]
    },
    {
     "name": "stdout",
     "output_type": "stream",
     "text": [
      "\rIteration 89\tTotal Reward 28161.210055\tMean Reward 316.418091   "
     ]
    },
    {
     "name": "stdout",
     "output_type": "stream",
     "text": [
      "\rIteration 99\tTotal Reward 31747.128952\tMean Reward 320.678070   Total reward : 31747.128951998624\nMean reward : 317.4712895199862\n"
     ]
    },
    {
     "name": "stdout",
     "output_type": "stream",
     "text": [
      "\rIteration 9\tTotal Reward 1794.506233\tMean Reward 199.389581   \rIteration 19\tTotal Reward 3101.565105\tMean Reward 163.240269   "
     ]
    },
    {
     "name": "stdout",
     "output_type": "stream",
     "text": [
      "\rIteration 29\tTotal Reward 3535.838647\tMean Reward 121.925471   \rIteration 39\tTotal Reward 4485.483394\tMean Reward 115.012395   "
     ]
    },
    {
     "name": "stdout",
     "output_type": "stream",
     "text": [
      "\rIteration 49\tTotal Reward 5112.436610\tMean Reward 104.335441   \rIteration 59\tTotal Reward 6488.311033\tMean Reward 109.971373   "
     ]
    },
    {
     "name": "stdout",
     "output_type": "stream",
     "text": [
      "\rIteration 69\tTotal Reward 7355.746575\tMean Reward 106.605023   "
     ]
    },
    {
     "name": "stdout",
     "output_type": "stream",
     "text": [
      "\rIteration 79\tTotal Reward 8949.615308\tMean Reward 113.286270   "
     ]
    },
    {
     "name": "stdout",
     "output_type": "stream",
     "text": [
      "\rIteration 89\tTotal Reward 9241.719906\tMean Reward 103.839550   "
     ]
    },
    {
     "name": "stdout",
     "output_type": "stream",
     "text": [
      "\rIteration 99\tTotal Reward 11680.418462\tMean Reward 117.984025   Total reward : 11680.41846204865\nMean reward : 116.80418462048651\n"
     ]
    },
    {
     "name": "stdout",
     "output_type": "stream",
     "text": [
      "\rIteration 9\tTotal Reward 1315.350845\tMean Reward 146.150094   \rIteration 19\tTotal Reward 2747.818421\tMean Reward 144.622022   "
     ]
    },
    {
     "name": "stdout",
     "output_type": "stream",
     "text": [
      "\rIteration 29\tTotal Reward 4821.976567\tMean Reward 166.275054   "
     ]
    },
    {
     "name": "stdout",
     "output_type": "stream",
     "text": [
      "\rIteration 39\tTotal Reward 7379.392283\tMean Reward 189.215187   "
     ]
    },
    {
     "name": "stdout",
     "output_type": "stream",
     "text": [
      "\rIteration 49\tTotal Reward 8250.355517\tMean Reward 168.374602   "
     ]
    },
    {
     "name": "stdout",
     "output_type": "stream",
     "text": [
      "\rIteration 59\tTotal Reward 8250.355517\tMean Reward 139.836534   \rIteration 69\tTotal Reward 9965.233129\tMean Reward 144.423669   "
     ]
    },
    {
     "name": "stdout",
     "output_type": "stream",
     "text": [
      "\rIteration 79\tTotal Reward 13422.037209\tMean Reward 169.899205   "
     ]
    },
    {
     "name": "stdout",
     "output_type": "stream",
     "text": [
      "\rIteration 89\tTotal Reward 14279.476015\tMean Reward 160.443551   "
     ]
    },
    {
     "name": "stdout",
     "output_type": "stream",
     "text": [
      "\rIteration 99\tTotal Reward 14966.660718\tMean Reward 151.178391   Total reward : 14966.66071757756\nMean reward : 149.6666071757756\n"
     ]
    },
    {
     "name": "stdout",
     "output_type": "stream",
     "text": [
      "\rIteration 9\tTotal Reward 2856.819403\tMean Reward 317.424378   "
     ]
    },
    {
     "name": "stdout",
     "output_type": "stream",
     "text": [
      "\rIteration 19\tTotal Reward 6616.130710\tMean Reward 348.217406   "
     ]
    },
    {
     "name": "stdout",
     "output_type": "stream",
     "text": [
      "\rIteration 29\tTotal Reward 9673.922206\tMean Reward 333.583524   \rIteration 39\tTotal Reward 11914.959443\tMean Reward 305.511781   "
     ]
    },
    {
     "name": "stdout",
     "output_type": "stream",
     "text": [
      "\rIteration 49\tTotal Reward 13388.122081\tMean Reward 273.226981   "
     ]
    },
    {
     "name": "stdout",
     "output_type": "stream",
     "text": [
      "\rIteration 59\tTotal Reward 16660.732452\tMean Reward 282.385296   "
     ]
    },
    {
     "name": "stdout",
     "output_type": "stream",
     "text": [
      "\rIteration 69\tTotal Reward 18197.517313\tMean Reward 263.732135   "
     ]
    },
    {
     "name": "stdout",
     "output_type": "stream",
     "text": [
      "\rIteration 79\tTotal Reward 19670.679951\tMean Reward 248.995949   \rIteration 89\tTotal Reward 20439.590214\tMean Reward 229.658317   "
     ]
    },
    {
     "name": "stdout",
     "output_type": "stream",
     "text": [
      "\rIteration 99\tTotal Reward 24061.101092\tMean Reward 243.041425   Total reward : 24939.62366895\nMean reward : 249.3962366895\n"
     ]
    },
    {
     "name": "stdout",
     "output_type": "stream",
     "text": [
      "\rIteration 9\tTotal Reward 1316.919306\tMean Reward 146.324367   \rIteration 19\tTotal Reward 3165.637630\tMean Reward 166.612507   "
     ]
    },
    {
     "name": "stdout",
     "output_type": "stream",
     "text": [
      "\rIteration 29\tTotal Reward 5003.344592\tMean Reward 172.529124   \rIteration 39\tTotal Reward 8165.666056\tMean Reward 209.376053   "
     ]
    },
    {
     "name": "stdout",
     "output_type": "stream",
     "text": [
      "\rIteration 49\tTotal Reward 9747.648051\tMean Reward 198.931593   \rIteration 59\tTotal Reward 11067.110702\tMean Reward 187.578147   "
     ]
    },
    {
     "name": "stdout",
     "output_type": "stream",
     "text": [
      "\rIteration 69\tTotal Reward 14328.371174\tMean Reward 207.657553   \rIteration 79\tTotal Reward 15313.578401\tMean Reward 193.842765   "
     ]
    },
    {
     "name": "stdout",
     "output_type": "stream",
     "text": [
      "\rIteration 89\tTotal Reward 17379.773368\tMean Reward 195.278352   \rIteration 99\tTotal Reward 19044.088056\tMean Reward 192.364526   "
     ]
    },
    {
     "name": "stdout",
     "output_type": "stream",
     "text": [
      "Total reward : 19044.088055771306\nMean reward : 190.44088055771306\n"
     ]
    },
    {
     "name": "stdout",
     "output_type": "stream",
     "text": [
      "\rIteration 9\tTotal Reward 2549.165945\tMean Reward 283.240661   \rIteration 19\tTotal Reward 4530.854413\tMean Reward 238.466022   "
     ]
    },
    {
     "name": "stdout",
     "output_type": "stream",
     "text": [
      "\rIteration 29\tTotal Reward 6731.959381\tMean Reward 232.136530   \rIteration 39\tTotal Reward 10393.358388\tMean Reward 266.496369   "
     ]
    },
    {
     "name": "stdout",
     "output_type": "stream",
     "text": [
      "\rIteration 49\tTotal Reward 12618.158739\tMean Reward 257.513444   \rIteration 59\tTotal Reward 12618.158739\tMean Reward 213.867097   "
     ]
    },
    {
     "name": "stdout",
     "output_type": "stream",
     "text": [
      "\rIteration 69\tTotal Reward 16122.750121\tMean Reward 233.663045   "
     ]
    },
    {
     "name": "stdout",
     "output_type": "stream",
     "text": [
      "\rIteration 79\tTotal Reward 18111.208610\tMean Reward 229.255805   \rIteration 89\tTotal Reward 19655.571657\tMean Reward 220.849120   "
     ]
    },
    {
     "name": "stdout",
     "output_type": "stream",
     "text": [
      "\rIteration 99\tTotal Reward 20178.294667\tMean Reward 203.821158   Total reward : 20178.294666866117\nMean reward : 201.78294666866117\n"
     ]
    },
    {
     "name": "stdout",
     "output_type": "stream",
     "text": [
      "\rIteration 9\tTotal Reward 0.000000\tMean Reward 0.000000   "
     ]
    },
    {
     "name": "stdout",
     "output_type": "stream",
     "text": [
      "\rIteration 19\tTotal Reward 2442.076869\tMean Reward 128.530362   \rIteration 29\tTotal Reward 3896.987689\tMean Reward 134.378886   "
     ]
    },
    {
     "name": "stdout",
     "output_type": "stream",
     "text": [
      "\rIteration 39\tTotal Reward 3896.987689\tMean Reward 99.922761   \rIteration 49\tTotal Reward 6425.586289\tMean Reward 131.134414   "
     ]
    },
    {
     "name": "stdout",
     "output_type": "stream",
     "text": [
      "\rIteration 59\tTotal Reward 8913.217844\tMean Reward 151.071489   \rIteration 69\tTotal Reward 8913.217844\tMean Reward 129.177070   "
     ]
    },
    {
     "name": "stdout",
     "output_type": "stream",
     "text": [
      "\rIteration 79\tTotal Reward 11605.656475\tMean Reward 146.907044   \rIteration 89\tTotal Reward 13940.043190\tMean Reward 156.629699   "
     ]
    },
    {
     "name": "stdout",
     "output_type": "stream",
     "text": [
      "\rIteration 99\tTotal Reward 17955.329959\tMean Reward 181.366969   Total reward : 17955.32995939338\nMean reward : 179.55329959393382\n"
     ]
    },
    {
     "name": "stdout",
     "output_type": "stream",
     "text": [
      "\rIteration 9\tTotal Reward 1880.152338\tMean Reward 208.905815   "
     ]
    },
    {
     "name": "stdout",
     "output_type": "stream",
     "text": [
      "\rIteration 19\tTotal Reward 2791.797270\tMean Reward 146.936698   \rIteration 29\tTotal Reward 3642.231319\tMean Reward 125.594183   "
     ]
    },
    {
     "name": "stdout",
     "output_type": "stream",
     "text": [
      "\rIteration 39\tTotal Reward 5522.383657\tMean Reward 141.599581   "
     ]
    },
    {
     "name": "stdout",
     "output_type": "stream",
     "text": [
      "\rIteration 49\tTotal Reward 10076.259908\tMean Reward 205.637957   "
     ]
    },
    {
     "name": "stdout",
     "output_type": "stream",
     "text": [
      "\rIteration 59\tTotal Reward 10076.259908\tMean Reward 170.784066   "
     ]
    },
    {
     "name": "stdout",
     "output_type": "stream",
     "text": [
      "\rIteration 69\tTotal Reward 11979.280448\tMean Reward 173.612760   "
     ]
    },
    {
     "name": "stdout",
     "output_type": "stream",
     "text": [
      "\rIteration 79\tTotal Reward 15625.860178\tMean Reward 197.795698   "
     ]
    },
    {
     "name": "stdout",
     "output_type": "stream",
     "text": [
      "\rIteration 89\tTotal Reward 16282.905283\tMean Reward 182.953992   "
     ]
    },
    {
     "name": "stdout",
     "output_type": "stream",
     "text": [
      "\rIteration 99\tTotal Reward 18758.891842\tMean Reward 189.483756   Total reward : 18758.891842160054\nMean reward : 187.58891842160054\n"
     ]
    },
    {
     "name": "stdout",
     "output_type": "stream",
     "text": [
      "\rIteration 9\tTotal Reward 3995.857241\tMean Reward 443.984138   \rIteration 19\tTotal Reward 6542.861692\tMean Reward 344.361142   "
     ]
    },
    {
     "name": "stdout",
     "output_type": "stream",
     "text": [
      "\rIteration 29\tTotal Reward 9514.455221\tMean Reward 328.084663   \rIteration 39\tTotal Reward 13215.025858\tMean Reward 338.846817   "
     ]
    },
    {
     "name": "stdout",
     "output_type": "stream",
     "text": [
      "\rIteration 49\tTotal Reward 15997.704721\tMean Reward 326.483770   \rIteration 59\tTotal Reward 17785.368839\tMean Reward 301.446929   "
     ]
    },
    {
     "name": "stdout",
     "output_type": "stream",
     "text": [
      "\rIteration 69\tTotal Reward 17785.368839\tMean Reward 257.758969   "
     ]
    },
    {
     "name": "stdout",
     "output_type": "stream",
     "text": [
      "\rIteration 79\tTotal Reward 20284.253860\tMean Reward 256.762707   "
     ]
    },
    {
     "name": "stdout",
     "output_type": "stream",
     "text": [
      "\rIteration 89\tTotal Reward 22472.605491\tMean Reward 252.501185   "
     ]
    },
    {
     "name": "stdout",
     "output_type": "stream",
     "text": [
      "\rIteration 99\tTotal Reward 25012.931021\tMean Reward 252.655869   Total reward : 25012.931021441032\nMean reward : 250.12931021441034\n"
     ]
    },
    {
     "name": "stdout",
     "output_type": "stream",
     "text": [
      "\rIteration 9\tTotal Reward 1629.714115\tMean Reward 181.079346   "
     ]
    },
    {
     "name": "stdout",
     "output_type": "stream",
     "text": [
      "\rIteration 19\tTotal Reward 2584.076743\tMean Reward 136.004039   \rIteration 29\tTotal Reward 8057.366317\tMean Reward 277.840218   "
     ]
    },
    {
     "name": "stdout",
     "output_type": "stream",
     "text": [
      "\rIteration 39\tTotal Reward 9870.941742\tMean Reward 253.101070   \rIteration 49\tTotal Reward 9870.941742\tMean Reward 201.447791   "
     ]
    },
    {
     "name": "stdout",
     "output_type": "stream",
     "text": [
      "\rIteration 59\tTotal Reward 14980.523459\tMean Reward 253.907177   \rIteration 69\tTotal Reward 16174.070403\tMean Reward 234.406817   "
     ]
    },
    {
     "name": "stdout",
     "output_type": "stream",
     "text": [
      "\rIteration 79\tTotal Reward 19435.532390\tMean Reward 246.019397   "
     ]
    },
    {
     "name": "stdout",
     "output_type": "stream",
     "text": [
      "\rIteration 89\tTotal Reward 20412.430459\tMean Reward 229.353151   "
     ]
    },
    {
     "name": "stdout",
     "output_type": "stream",
     "text": [
      "\rIteration 99\tTotal Reward 20692.204818\tMean Reward 209.012170   Total reward : 20692.204817881448\nMean reward : 206.92204817881446\n"
     ]
    },
    {
     "name": "stdout",
     "output_type": "stream",
     "text": [
      "\rIteration 9\tTotal Reward 2691.928660\tMean Reward 299.103184   \rIteration 19\tTotal Reward 3820.035102\tMean Reward 201.054479   "
     ]
    },
    {
     "name": "stdout",
     "output_type": "stream",
     "text": [
      "\rIteration 29\tTotal Reward 5980.431876\tMean Reward 206.221789   \rIteration 39\tTotal Reward 7457.604930\tMean Reward 191.220639   "
     ]
    },
    {
     "name": "stdout",
     "output_type": "stream",
     "text": [
      "\rIteration 49\tTotal Reward 7457.604930\tMean Reward 152.196019   "
     ]
    },
    {
     "name": "stdout",
     "output_type": "stream",
     "text": [
      "\rIteration 59\tTotal Reward 9859.654003\tMean Reward 167.112780   "
     ]
    },
    {
     "name": "stdout",
     "output_type": "stream",
     "text": [
      "\rIteration 69\tTotal Reward 13261.343887\tMean Reward 192.193390   "
     ]
    },
    {
     "name": "stdout",
     "output_type": "stream",
     "text": [
      "\rIteration 79\tTotal Reward 16472.196724\tMean Reward 208.508819   \rIteration 89\tTotal Reward 17172.309160\tMean Reward 192.947294   "
     ]
    },
    {
     "name": "stdout",
     "output_type": "stream",
     "text": [
      "\rIteration 99\tTotal Reward 17172.309160\tMean Reward 173.457668   Total reward : 17172.30915965353\nMean reward : 171.7230915965353\n"
     ]
    },
    {
     "name": "stdout",
     "output_type": "stream",
     "text": [
      "\rIteration 9\tTotal Reward 802.132208\tMean Reward 89.125801   "
     ]
    },
    {
     "name": "stdout",
     "output_type": "stream",
     "text": [
      "\rIteration 19\tTotal Reward 4019.642183\tMean Reward 211.560115   "
     ]
    },
    {
     "name": "stdout",
     "output_type": "stream",
     "text": [
      "\rIteration 29\tTotal Reward 4949.292467\tMean Reward 170.665257   "
     ]
    },
    {
     "name": "stdout",
     "output_type": "stream",
     "text": [
      "\rIteration 39\tTotal Reward 6526.208654\tMean Reward 167.338683   \rIteration 49\tTotal Reward 10077.719751\tMean Reward 205.667750   "
     ]
    },
    {
     "name": "stdout",
     "output_type": "stream",
     "text": [
      "\rIteration 59\tTotal Reward 12759.869776\tMean Reward 216.268979   \rIteration 69\tTotal Reward 13636.119646\tMean Reward 197.624922   "
     ]
    },
    {
     "name": "stdout",
     "output_type": "stream",
     "text": [
      "\rIteration 79\tTotal Reward 15163.588648\tMean Reward 191.944160   \rIteration 89\tTotal Reward 16979.688240\tMean Reward 190.783014   "
     ]
    },
    {
     "name": "stdout",
     "output_type": "stream",
     "text": [
      "\rIteration 99\tTotal Reward 19393.662959\tMean Reward 195.895585   Total reward : 19393.662959086803\nMean reward : 193.93662959086802\n"
     ]
    },
    {
     "name": "stdout",
     "output_type": "stream",
     "text": [
      "\rIteration 9\tTotal Reward 1801.941330\tMean Reward 200.215703   \rIteration 19\tTotal Reward 4510.852389\tMean Reward 237.413284   "
     ]
    },
    {
     "name": "stdout",
     "output_type": "stream",
     "text": [
      "\rIteration 29\tTotal Reward 6243.480387\tMean Reward 215.292427   "
     ]
    },
    {
     "name": "stdout",
     "output_type": "stream",
     "text": [
      "\rIteration 39\tTotal Reward 7786.215134\tMean Reward 199.646542   "
     ]
    },
    {
     "name": "stdout",
     "output_type": "stream",
     "text": [
      "\rIteration 49\tTotal Reward 11585.931172\tMean Reward 236.447575   "
     ]
    },
    {
     "name": "stdout",
     "output_type": "stream",
     "text": [
      "\rIteration 59\tTotal Reward 16450.194120\tMean Reward 278.816849   "
     ]
    },
    {
     "name": "stdout",
     "output_type": "stream",
     "text": [
      "\rIteration 69\tTotal Reward 18863.795722\tMean Reward 273.388344   "
     ]
    },
    {
     "name": "stdout",
     "output_type": "stream",
     "text": [
      "\rIteration 79\tTotal Reward 20622.622451\tMean Reward 261.045854   "
     ]
    },
    {
     "name": "stdout",
     "output_type": "stream",
     "text": [
      "\rIteration 89\tTotal Reward 22398.365049\tMean Reward 251.667023   "
     ]
    },
    {
     "name": "stdout",
     "output_type": "stream",
     "text": [
      "\rIteration 99\tTotal Reward 26839.904106\tMean Reward 271.110142   Total reward : 26839.90410622224\nMean reward : 268.3990410622224\n"
     ]
    },
    {
     "name": "stdout",
     "output_type": "stream",
     "text": [
      "\rIteration 9\tTotal Reward 2363.683174\tMean Reward 262.631464   \rIteration 19\tTotal Reward 3841.629164\tMean Reward 202.191009   "
     ]
    },
    {
     "name": "stdout",
     "output_type": "stream",
     "text": [
      "\rIteration 29\tTotal Reward 4551.453614\tMean Reward 156.946676   \rIteration 39\tTotal Reward 6947.375932\tMean Reward 178.137844   "
     ]
    },
    {
     "name": "stdout",
     "output_type": "stream",
     "text": [
      "\rIteration 49\tTotal Reward 11264.965091\tMean Reward 229.897247   \rIteration 59\tTotal Reward 12159.982644\tMean Reward 206.101401   "
     ]
    },
    {
     "name": "stdout",
     "output_type": "stream",
     "text": [
      "\rIteration 69\tTotal Reward 15175.439126\tMean Reward 219.933900   \rIteration 79\tTotal Reward 18579.583805\tMean Reward 235.184605   "
     ]
    },
    {
     "name": "stdout",
     "output_type": "stream",
     "text": [
      "\rIteration 89\tTotal Reward 21186.840277\tMean Reward 238.054385   "
     ]
    },
    {
     "name": "stdout",
     "output_type": "stream",
     "text": [
      "\rIteration 99\tTotal Reward 25242.026472\tMean Reward 254.969964   Total reward : 26049.98026921236\nMean reward : 260.4998026921236\n"
     ]
    },
    {
     "name": "stdout",
     "output_type": "stream",
     "text": [
      "\rIteration 9\tTotal Reward 3708.424890\tMean Reward 412.047210   \rIteration 19\tTotal Reward 8021.646772\tMean Reward 422.191935   "
     ]
    },
    {
     "name": "stdout",
     "output_type": "stream",
     "text": [
      "\rIteration 29\tTotal Reward 13781.201766\tMean Reward 475.213854   "
     ]
    },
    {
     "name": "stdout",
     "output_type": "stream",
     "text": [
      "\rIteration 39\tTotal Reward 16327.970808\tMean Reward 418.665918   "
     ]
    },
    {
     "name": "stdout",
     "output_type": "stream",
     "text": [
      "\rIteration 49\tTotal Reward 18136.980494\tMean Reward 370.142459   "
     ]
    },
    {
     "name": "stdout",
     "output_type": "stream",
     "text": [
      "\rIteration 59\tTotal Reward 19979.508843\tMean Reward 338.635743   "
     ]
    },
    {
     "name": "stdout",
     "output_type": "stream",
     "text": [
      "\rIteration 69\tTotal Reward 23720.669094\tMean Reward 343.777813   "
     ]
    },
    {
     "name": "stdout",
     "output_type": "stream",
     "text": [
      "\rIteration 79\tTotal Reward 26328.648044\tMean Reward 333.274026   "
     ]
    },
    {
     "name": "stdout",
     "output_type": "stream",
     "text": [
      "\rIteration 89\tTotal Reward 28197.123886\tMean Reward 316.821617   "
     ]
    },
    {
     "name": "stdout",
     "output_type": "stream",
     "text": [
      "\rIteration 99\tTotal Reward 30069.477635\tMean Reward 303.732097   Total reward : 30889.032505496525\nMean reward : 308.8903250549653\n"
     ]
    },
    {
     "name": "stdout",
     "output_type": "stream",
     "text": [
      "\rIteration 9\tTotal Reward 325.403800\tMean Reward 36.155978   \rIteration 19\tTotal Reward 1157.910233\tMean Reward 60.942644   "
     ]
    },
    {
     "name": "stdout",
     "output_type": "stream",
     "text": [
      "\rIteration 29\tTotal Reward 4332.564272\tMean Reward 149.398768   \rIteration 39\tTotal Reward 6447.488776\tMean Reward 165.320225   "
     ]
    },
    {
     "name": "stdout",
     "output_type": "stream",
     "text": [
      "\rIteration 49\tTotal Reward 7681.720095\tMean Reward 156.769798   \rIteration 59\tTotal Reward 9487.671634\tMean Reward 160.807994   "
     ]
    },
    {
     "name": "stdout",
     "output_type": "stream",
     "text": [
      "\rIteration 69\tTotal Reward 11712.428611\tMean Reward 169.745342   \rIteration 79\tTotal Reward 13386.673999\tMean Reward 169.451570   "
     ]
    },
    {
     "name": "stdout",
     "output_type": "stream",
     "text": [
      "\rIteration 89\tTotal Reward 15639.754371\tMean Reward 175.727577   "
     ]
    },
    {
     "name": "stdout",
     "output_type": "stream",
     "text": [
      "\rIteration 99\tTotal Reward 17217.781672\tMean Reward 173.916987   Total reward : 17217.781671584784\nMean reward : 172.17781671584783\n"
     ]
    },
    {
     "name": "stdout",
     "output_type": "stream",
     "text": [
      "\rIteration 9\tTotal Reward 771.641467\tMean Reward 85.737941   \rIteration 19\tTotal Reward 1512.151866\tMean Reward 79.586940   "
     ]
    },
    {
     "name": "stdout",
     "output_type": "stream",
     "text": [
      "\rIteration 29\tTotal Reward 2447.814648\tMean Reward 84.407402   \rIteration 39\tTotal Reward 5034.585532\tMean Reward 129.091937   "
     ]
    },
    {
     "name": "stdout",
     "output_type": "stream",
     "text": [
      "\rIteration 49\tTotal Reward 5034.585532\tMean Reward 102.746644   \rIteration 59\tTotal Reward 5954.888202\tMean Reward 100.930309   "
     ]
    },
    {
     "name": "stdout",
     "output_type": "stream",
     "text": [
      "\rIteration 69\tTotal Reward 8790.760471\tMean Reward 127.402326   "
     ]
    },
    {
     "name": "stdout",
     "output_type": "stream",
     "text": [
      "\rIteration 79\tTotal Reward 10207.335757\tMean Reward 129.206782   \rIteration 89\tTotal Reward 11978.631981\tMean Reward 134.591371   "
     ]
    },
    {
     "name": "stdout",
     "output_type": "stream",
     "text": [
      "\rIteration 99\tTotal Reward 14681.892619\tMean Reward 148.301946   Total reward : 14681.892619118204\nMean reward : 146.81892619118204\n"
     ]
    },
    {
     "name": "stdout",
     "output_type": "stream",
     "text": [
      "\rIteration 9\tTotal Reward 2297.855806\tMean Reward 255.317312   \rIteration 19\tTotal Reward 5073.909918\tMean Reward 267.047890   "
     ]
    },
    {
     "name": "stdout",
     "output_type": "stream",
     "text": [
      "\rIteration 29\tTotal Reward 8785.894870\tMean Reward 302.961892   \rIteration 39\tTotal Reward 11518.107851\tMean Reward 295.336099   "
     ]
    },
    {
     "name": "stdout",
     "output_type": "stream",
     "text": [
      "\rIteration 49\tTotal Reward 14511.894555\tMean Reward 296.161113   \rIteration 59\tTotal Reward 18134.422692\tMean Reward 307.363096   "
     ]
    },
    {
     "name": "stdout",
     "output_type": "stream",
     "text": [
      "\rIteration 69\tTotal Reward 22286.814396\tMean Reward 322.997310   \rIteration 79\tTotal Reward 24090.119688\tMean Reward 304.938224   "
     ]
    },
    {
     "name": "stdout",
     "output_type": "stream",
     "text": [
      "\rIteration 89\tTotal Reward 26256.982293\tMean Reward 295.022273   \rIteration 99\tTotal Reward 29749.366949\tMean Reward 300.498656   "
     ]
    },
    {
     "name": "stdout",
     "output_type": "stream",
     "text": [
      "Total reward : 29749.36694914978\nMean reward : 297.49366949149777\n"
     ]
    },
    {
     "name": "stdout",
     "output_type": "stream",
     "text": [
      "\rIteration 9\tTotal Reward 0.000000\tMean Reward 0.000000   "
     ]
    },
    {
     "name": "stdout",
     "output_type": "stream",
     "text": [
      "\rIteration 19\tTotal Reward 1834.230980\tMean Reward 96.538473   "
     ]
    },
    {
     "name": "stdout",
     "output_type": "stream",
     "text": [
      "\rIteration 29\tTotal Reward 5164.711040\tMean Reward 178.093484   "
     ]
    },
    {
     "name": "stdout",
     "output_type": "stream",
     "text": [
      "\rIteration 39\tTotal Reward 9810.553974\tMean Reward 251.552666   "
     ]
    },
    {
     "name": "stdout",
     "output_type": "stream",
     "text": [
      "\rIteration 49\tTotal Reward 15393.834406\tMean Reward 314.159886   "
     ]
    },
    {
     "name": "stdout",
     "output_type": "stream",
     "text": [
      "\rIteration 59\tTotal Reward 18936.144035\tMean Reward 320.951594   "
     ]
    },
    {
     "name": "stdout",
     "output_type": "stream",
     "text": [
      "\rIteration 69\tTotal Reward 19902.377849\tMean Reward 288.440259   "
     ]
    },
    {
     "name": "stdout",
     "output_type": "stream",
     "text": [
      "\rIteration 79\tTotal Reward 23600.580557\tMean Reward 298.741526   "
     ]
    },
    {
     "name": "stdout",
     "output_type": "stream",
     "text": [
      "\rIteration 89\tTotal Reward 27393.396705\tMean Reward 307.790974   \rIteration 99\tTotal Reward 29247.238004\tMean Reward 295.426647   "
     ]
    },
    {
     "name": "stdout",
     "output_type": "stream",
     "text": [
      "Total reward : 29247.23800350633\nMean reward : 292.4723800350633\n"
     ]
    },
    {
     "name": "stdout",
     "output_type": "stream",
     "text": [
      "\rIteration 9\tTotal Reward 1549.328738\tMean Reward 172.147638   "
     ]
    },
    {
     "name": "stdout",
     "output_type": "stream",
     "text": [
      "\rIteration 19\tTotal Reward 3789.151339\tMean Reward 199.429018   \rIteration 29\tTotal Reward 6979.753617\tMean Reward 240.681159   "
     ]
    },
    {
     "name": "stdout",
     "output_type": "stream",
     "text": [
      "\rIteration 39\tTotal Reward 11280.712573\tMean Reward 289.249040   \rIteration 49\tTotal Reward 14637.274354\tMean Reward 298.719885   "
     ]
    },
    {
     "name": "stdout",
     "output_type": "stream",
     "text": [
      "\rIteration 59\tTotal Reward 17099.524541\tMean Reward 289.822450   "
     ]
    },
    {
     "name": "stdout",
     "output_type": "stream",
     "text": [
      "\rIteration 69\tTotal Reward 21261.665259\tMean Reward 308.140076   \rIteration 79\tTotal Reward 23526.039868\tMean Reward 297.797973   "
     ]
    },
    {
     "name": "stdout",
     "output_type": "stream",
     "text": [
      "\rIteration 89\tTotal Reward 26787.592359\tMean Reward 300.984184   \rIteration 99\tTotal Reward 27784.363865\tMean Reward 280.650140   "
     ]
    },
    {
     "name": "stdout",
     "output_type": "stream",
     "text": [
      "Total reward : 27784.363865367402\nMean reward : 277.843638653674\n"
     ]
    },
    {
     "name": "stdout",
     "output_type": "stream",
     "text": [
      "\rIteration 9\tTotal Reward 1652.220470\tMean Reward 183.580052   \rIteration 19\tTotal Reward 3427.740777\tMean Reward 180.407409   "
     ]
    },
    {
     "name": "stdout",
     "output_type": "stream",
     "text": [
      "\rIteration 29\tTotal Reward 4956.605540\tMean Reward 170.917432   \rIteration 39\tTotal Reward 6402.030255\tMean Reward 164.154622   "
     ]
    },
    {
     "name": "stdout",
     "output_type": "stream",
     "text": [
      "\rIteration 49\tTotal Reward 7216.513052\tMean Reward 147.275777   \rIteration 59\tTotal Reward 10374.343407\tMean Reward 175.836329   "
     ]
    },
    {
     "name": "stdout",
     "output_type": "stream",
     "text": [
      "\rIteration 69\tTotal Reward 12026.563877\tMean Reward 174.298027   \rIteration 79\tTotal Reward 12841.046673\tMean Reward 162.544895   "
     ]
    },
    {
     "name": "stdout",
     "output_type": "stream",
     "text": [
      "\rIteration 89\tTotal Reward 16245.588442\tMean Reward 182.534702   \rIteration 99\tTotal Reward 19059.103950\tMean Reward 192.516202   "
     ]
    },
    {
     "name": "stdout",
     "output_type": "stream",
     "text": [
      "Total reward : 19059.103949762884\nMean reward : 190.59103949762886\n"
     ]
    },
    {
     "name": "stdout",
     "output_type": "stream",
     "text": [
      "\rIteration 9\tTotal Reward 1583.744491\tMean Reward 175.971610   \rIteration 19\tTotal Reward 5501.578777\tMean Reward 289.556778   "
     ]
    },
    {
     "name": "stdout",
     "output_type": "stream",
     "text": [
      "\rIteration 29\tTotal Reward 7793.626349\tMean Reward 268.745736   \rIteration 39\tTotal Reward 9541.083091\tMean Reward 244.643156   "
     ]
    },
    {
     "name": "stdout",
     "output_type": "stream",
     "text": [
      "\rIteration 49\tTotal Reward 10415.647400\tMean Reward 212.564233   \rIteration 59\tTotal Reward 13929.940667\tMean Reward 236.100689   "
     ]
    },
    {
     "name": "stdout",
     "output_type": "stream",
     "text": [
      "\rIteration 69\tTotal Reward 16952.089796\tMean Reward 245.682461   \rIteration 79\tTotal Reward 17676.186308\tMean Reward 223.749194   "
     ]
    },
    {
     "name": "stdout",
     "output_type": "stream",
     "text": [
      "\rIteration 89\tTotal Reward 20134.495108\tMean Reward 226.230282   \rIteration 99\tTotal Reward 21809.531039\tMean Reward 220.298293   "
     ]
    },
    {
     "name": "stdout",
     "output_type": "stream",
     "text": [
      "Total reward : 22584.10577839314\nMean reward : 225.8410577839314\n"
     ]
    },
    {
     "name": "stdout",
     "output_type": "stream",
     "text": [
      "\rIteration 9\tTotal Reward 592.293552\tMean Reward 65.810395   \rIteration 19\tTotal Reward 3369.248642\tMean Reward 177.328876   "
     ]
    },
    {
     "name": "stdout",
     "output_type": "stream",
     "text": [
      "\rIteration 29\tTotal Reward 7403.794781\tMean Reward 255.303268   \rIteration 39\tTotal Reward 8326.404621\tMean Reward 213.497554   "
     ]
    },
    {
     "name": "stdout",
     "output_type": "stream",
     "text": [
      "\rIteration 49\tTotal Reward 10941.733623\tMean Reward 223.300686   \rIteration 59\tTotal Reward 12721.934307\tMean Reward 215.626005   "
     ]
    },
    {
     "name": "stdout",
     "output_type": "stream",
     "text": [
      "\rIteration 69\tTotal Reward 14346.378027\tMean Reward 207.918522   "
     ]
    },
    {
     "name": "stdout",
     "output_type": "stream",
     "text": [
      "\rIteration 79\tTotal Reward 19325.804974\tMean Reward 244.630443   \rIteration 89\tTotal Reward 21226.484316\tMean Reward 238.499824   "
     ]
    },
    {
     "name": "stdout",
     "output_type": "stream",
     "text": [
      "\rIteration 99\tTotal Reward 22378.259358\tMean Reward 226.043024   Total reward : 22378.25935770323\nMean reward : 223.78259357703232\n"
     ]
    },
    {
     "name": "stdout",
     "output_type": "stream",
     "text": [
      "\rIteration 9\tTotal Reward 855.689310\tMean Reward 95.076590   \rIteration 19\tTotal Reward 2667.705335\tMean Reward 140.405544   "
     ]
    },
    {
     "name": "stdout",
     "output_type": "stream",
     "text": [
      "\rIteration 29\tTotal Reward 5449.362189\tMean Reward 187.909041   \rIteration 39\tTotal Reward 7160.740809\tMean Reward 183.608739   "
     ]
    },
    {
     "name": "stdout",
     "output_type": "stream",
     "text": [
      "\rIteration 49\tTotal Reward 8916.481895\tMean Reward 181.969018   \rIteration 59\tTotal Reward 12595.587910\tMean Reward 213.484541   "
     ]
    },
    {
     "name": "stdout",
     "output_type": "stream",
     "text": [
      "\rIteration 69\tTotal Reward 16174.056520\tMean Reward 234.406616   "
     ]
    },
    {
     "name": "stdout",
     "output_type": "stream",
     "text": [
      "\rIteration 79\tTotal Reward 19484.263881\tMean Reward 246.636252   \rIteration 89\tTotal Reward 20283.678251\tMean Reward 227.906497   "
     ]
    },
    {
     "name": "stdout",
     "output_type": "stream",
     "text": [
      "\rIteration 99\tTotal Reward 21250.716465\tMean Reward 214.653702   Total reward : 21250.716465048685\nMean reward : 212.50716465048686\n"
     ]
    },
    {
     "name": "stdout",
     "output_type": "stream",
     "text": [
      "\rIteration 9\tTotal Reward 1749.621244\tMean Reward 194.402360   \rIteration 19\tTotal Reward 5365.559815\tMean Reward 282.397885   "
     ]
    },
    {
     "name": "stdout",
     "output_type": "stream",
     "text": [
      "\rIteration 29\tTotal Reward 9335.642405\tMean Reward 321.918704   "
     ]
    },
    {
     "name": "stdout",
     "output_type": "stream",
     "text": [
      "\rIteration 39\tTotal Reward 12410.123461\tMean Reward 318.208294   \rIteration 49\tTotal Reward 14277.637209\tMean Reward 291.380351   "
     ]
    },
    {
     "name": "stdout",
     "output_type": "stream",
     "text": [
      "\rIteration 59\tTotal Reward 16109.503540\tMean Reward 273.042433   "
     ]
    },
    {
     "name": "stdout",
     "output_type": "stream",
     "text": [
      "\rIteration 69\tTotal Reward 17909.573055\tMean Reward 259.559030   "
     ]
    },
    {
     "name": "stdout",
     "output_type": "stream",
     "text": [
      "\rIteration 79\tTotal Reward 20330.169534\tMean Reward 257.343918   "
     ]
    },
    {
     "name": "stdout",
     "output_type": "stream",
     "text": [
      "\rIteration 89\tTotal Reward 23838.372328\tMean Reward 267.846880   "
     ]
    },
    {
     "name": "stdout",
     "output_type": "stream",
     "text": [
      "\rIteration 99\tTotal Reward 27065.567171\tMean Reward 273.389567   Total reward : 27065.567171279577\nMean reward : 270.65567171279577\n"
     ]
    },
    {
     "name": "stdout",
     "output_type": "stream",
     "text": [
      "\rIteration 9\tTotal Reward 1353.399416\tMean Reward 150.377713   \rIteration 19\tTotal Reward 2388.041053\tMean Reward 125.686371   "
     ]
    },
    {
     "name": "stdout",
     "output_type": "stream",
     "text": [
      "\rIteration 29\tTotal Reward 3683.252040\tMean Reward 127.008691   \rIteration 39\tTotal Reward 5951.713488\tMean Reward 152.608038   "
     ]
    },
    {
     "name": "stdout",
     "output_type": "stream",
     "text": [
      "\rIteration 49\tTotal Reward 6639.094421\tMean Reward 135.491723   "
     ]
    },
    {
     "name": "stdout",
     "output_type": "stream",
     "text": [
      "\rIteration 59\tTotal Reward 8414.447183\tMean Reward 142.617749   \rIteration 69\tTotal Reward 10703.534652\tMean Reward 155.123691   "
     ]
    },
    {
     "name": "stdout",
     "output_type": "stream",
     "text": [
      "\rIteration 79\tTotal Reward 10769.932525\tMean Reward 136.328260   \rIteration 89\tTotal Reward 12036.879104\tMean Reward 135.245833   "
     ]
    },
    {
     "name": "stdout",
     "output_type": "stream",
     "text": [
      "\rIteration 99\tTotal Reward 12872.199668\tMean Reward 130.022219   Total reward : 12872.199667791705\nMean reward : 128.72199667791705\n"
     ]
    },
    {
     "name": "stdout",
     "output_type": "stream",
     "text": [
      "\rIteration 9\tTotal Reward 1904.630080\tMean Reward 211.625564   "
     ]
    },
    {
     "name": "stdout",
     "output_type": "stream",
     "text": [
      "\rIteration 19\tTotal Reward 3117.601544\tMean Reward 164.084292   "
     ]
    },
    {
     "name": "stdout",
     "output_type": "stream",
     "text": [
      "\rIteration 29\tTotal Reward 3900.882977\tMean Reward 134.513206   \rIteration 39\tTotal Reward 6026.181300\tMean Reward 154.517469   "
     ]
    },
    {
     "name": "stdout",
     "output_type": "stream",
     "text": [
      "\rIteration 49\tTotal Reward 6078.089713\tMean Reward 124.042647   \rIteration 59\tTotal Reward 6361.624757\tMean Reward 107.824148   "
     ]
    },
    {
     "name": "stdout",
     "output_type": "stream",
     "text": [
      "\rIteration 69\tTotal Reward 10380.874970\tMean Reward 150.447463   \rIteration 79\tTotal Reward 12181.580446\tMean Reward 154.197221   "
     ]
    },
    {
     "name": "stdout",
     "output_type": "stream",
     "text": [
      "\rIteration 89\tTotal Reward 12559.626451\tMean Reward 141.119398   \rIteration 99\tTotal Reward 15236.438945\tMean Reward 153.903424   "
     ]
    },
    {
     "name": "stdout",
     "output_type": "stream",
     "text": [
      "Total reward : 15236.438945256043\nMean reward : 152.36438945256043\n"
     ]
    },
    {
     "name": "stdout",
     "output_type": "stream",
     "text": [
      "\rIteration 9\tTotal Reward 5718.195882\tMean Reward 635.355098   "
     ]
    },
    {
     "name": "stdout",
     "output_type": "stream",
     "text": [
      "\rIteration 19\tTotal Reward 7567.769524\tMean Reward 398.303659   "
     ]
    },
    {
     "name": "stdout",
     "output_type": "stream",
     "text": [
      "\rIteration 29\tTotal Reward 12325.174737\tMean Reward 425.006025   "
     ]
    },
    {
     "name": "stdout",
     "output_type": "stream",
     "text": [
      "\rIteration 39\tTotal Reward 15285.813684\tMean Reward 391.943941   "
     ]
    },
    {
     "name": "stdout",
     "output_type": "stream",
     "text": [
      "\rIteration 49\tTotal Reward 19020.650108\tMean Reward 388.176533   "
     ]
    },
    {
     "name": "stdout",
     "output_type": "stream",
     "text": [
      "\rIteration 59\tTotal Reward 19963.281498\tMean Reward 338.360703   "
     ]
    },
    {
     "name": "stdout",
     "output_type": "stream",
     "text": [
      "\rIteration 69\tTotal Reward 23588.812373\tMean Reward 341.866846   "
     ]
    },
    {
     "name": "stdout",
     "output_type": "stream",
     "text": [
      "\rIteration 79\tTotal Reward 27322.820749\tMean Reward 345.858490   "
     ]
    },
    {
     "name": "stdout",
     "output_type": "stream",
     "text": [
      "\rIteration 89\tTotal Reward 31114.202728\tMean Reward 349.597783   "
     ]
    },
    {
     "name": "stdout",
     "output_type": "stream",
     "text": [
      "\rIteration 99\tTotal Reward 33043.713768\tMean Reward 333.774887   Total reward : 33043.71376815137\nMean reward : 330.4371376815137\n"
     ]
    },
    {
     "name": "stdout",
     "output_type": "stream",
     "text": [
      "\rIteration 9\tTotal Reward 3636.590109\tMean Reward 404.065568   "
     ]
    },
    {
     "name": "stdout",
     "output_type": "stream",
     "text": [
      "\rIteration 19\tTotal Reward 10621.535752\tMean Reward 559.028197   "
     ]
    },
    {
     "name": "stdout",
     "output_type": "stream",
     "text": [
      "\rIteration 29\tTotal Reward 11351.012407\tMean Reward 391.414221   "
     ]
    },
    {
     "name": "stdout",
     "output_type": "stream",
     "text": [
      "\rIteration 39\tTotal Reward 12786.219368\tMean Reward 327.851779   "
     ]
    },
    {
     "name": "stdout",
     "output_type": "stream",
     "text": [
      "\rIteration 49\tTotal Reward 16406.641248\tMean Reward 334.829413   "
     ]
    },
    {
     "name": "stdout",
     "output_type": "stream",
     "text": [
      "\rIteration 59\tTotal Reward 19173.305042\tMean Reward 324.971272   "
     ]
    },
    {
     "name": "stdout",
     "output_type": "stream",
     "text": [
      "\rIteration 69\tTotal Reward 23655.815923\tMean Reward 342.837912   "
     ]
    },
    {
     "name": "stdout",
     "output_type": "stream",
     "text": [
      "\rIteration 79\tTotal Reward 28761.190836\tMean Reward 364.065707   "
     ]
    },
    {
     "name": "stdout",
     "output_type": "stream",
     "text": [
      "\rIteration 89\tTotal Reward 28761.190836\tMean Reward 323.159448   "
     ]
    },
    {
     "name": "stdout",
     "output_type": "stream",
     "text": [
      "\rIteration 99\tTotal Reward 28761.190836\tMean Reward 290.517079   Total reward : 28761.19083588535\nMean reward : 287.6119083588535\n"
     ]
    },
    {
     "name": "stdout",
     "output_type": "stream",
     "text": [
      "\rIteration 9\tTotal Reward 1501.361465\tMean Reward 166.817941   "
     ]
    },
    {
     "name": "stdout",
     "output_type": "stream",
     "text": [
      "\rIteration 19\tTotal Reward 3079.904617\tMean Reward 162.100243   \rIteration 29\tTotal Reward 3818.893070\tMean Reward 131.685968   "
     ]
    },
    {
     "name": "stdout",
     "output_type": "stream",
     "text": [
      "\rIteration 39\tTotal Reward 4761.271377\tMean Reward 122.083881   "
     ]
    },
    {
     "name": "stdout",
     "output_type": "stream",
     "text": [
      "\rIteration 49\tTotal Reward 7269.863377\tMean Reward 148.364559   \rIteration 59\tTotal Reward 8906.826227\tMean Reward 150.963156   "
     ]
    },
    {
     "name": "stdout",
     "output_type": "stream",
     "text": [
      "\rIteration 69\tTotal Reward 12257.242252\tMean Reward 177.641192   "
     ]
    },
    {
     "name": "stdout",
     "output_type": "stream",
     "text": [
      "\rIteration 79\tTotal Reward 14736.720489\tMean Reward 186.540766   "
     ]
    },
    {
     "name": "stdout",
     "output_type": "stream",
     "text": [
      "\rIteration 89\tTotal Reward 17976.497565\tMean Reward 201.983119   "
     ]
    },
    {
     "name": "stdout",
     "output_type": "stream",
     "text": [
      "\rIteration 99\tTotal Reward 19613.460415\tMean Reward 198.115762   Total reward : 19613.460414812664\nMean reward : 196.13460414812664\n"
     ]
    },
    {
     "name": "stdout",
     "output_type": "stream",
     "text": [
      "\rIteration 9\tTotal Reward 0.000000\tMean Reward 0.000000   \rIteration 19\tTotal Reward 3900.320762\tMean Reward 205.280040   "
     ]
    },
    {
     "name": "stdout",
     "output_type": "stream",
     "text": [
      "\rIteration 29\tTotal Reward 4863.089532\tMean Reward 167.692742   "
     ]
    },
    {
     "name": "stdout",
     "output_type": "stream",
     "text": [
      "\rIteration 39\tTotal Reward 5850.481142\tMean Reward 150.012337   "
     ]
    },
    {
     "name": "stdout",
     "output_type": "stream",
     "text": [
      "\rIteration 49\tTotal Reward 9153.378296\tMean Reward 186.803639   "
     ]
    },
    {
     "name": "stdout",
     "output_type": "stream",
     "text": [
      "\rIteration 59\tTotal Reward 13750.336919\tMean Reward 233.056558   "
     ]
    },
    {
     "name": "stdout",
     "output_type": "stream",
     "text": [
      "\rIteration 69\tTotal Reward 15677.368681\tMean Reward 227.208242   "
     ]
    },
    {
     "name": "stdout",
     "output_type": "stream",
     "text": [
      "\rIteration 79\tTotal Reward 19575.082356\tMean Reward 247.785853   "
     ]
    },
    {
     "name": "stdout",
     "output_type": "stream",
     "text": [
      "\rIteration 89\tTotal Reward 21193.940881\tMean Reward 238.134167   "
     ]
    },
    {
     "name": "stdout",
     "output_type": "stream",
     "text": [
      "\rIteration 99\tTotal Reward 22632.199822\tMean Reward 228.608079   Total reward : 22632.19982176107\nMean reward : 226.3219982176107\n"
     ]
    },
    {
     "name": "stdout",
     "output_type": "stream",
     "text": [
      "\rIteration 9\tTotal Reward 2378.172503\tMean Reward 264.241389   \rIteration 19\tTotal Reward 2378.172503\tMean Reward 125.166974   "
     ]
    },
    {
     "name": "stdout",
     "output_type": "stream",
     "text": [
      "\rIteration 29\tTotal Reward 3788.432918\tMean Reward 130.635618   \rIteration 39\tTotal Reward 4523.188282\tMean Reward 115.979187   "
     ]
    },
    {
     "name": "stdout",
     "output_type": "stream",
     "text": [
      "\rIteration 49\tTotal Reward 7354.303969\tMean Reward 150.087836   \rIteration 59\tTotal Reward 8237.594184\tMean Reward 139.620240   "
     ]
    },
    {
     "name": "stdout",
     "output_type": "stream",
     "text": [
      "\rIteration 69\tTotal Reward 9705.680481\tMean Reward 140.662036   "
     ]
    },
    {
     "name": "stdout",
     "output_type": "stream",
     "text": [
      "\rIteration 79\tTotal Reward 11919.487215\tMean Reward 150.879585   "
     ]
    },
    {
     "name": "stdout",
     "output_type": "stream",
     "text": [
      "\rIteration 89\tTotal Reward 15161.807163\tMean Reward 170.357384   "
     ]
    },
    {
     "name": "stdout",
     "output_type": "stream",
     "text": [
      "\rIteration 99\tTotal Reward 17020.805750\tMean Reward 171.927331   Total reward : 17020.805749699914\nMean reward : 170.20805749699915\n"
     ]
    },
    {
     "name": "stdout",
     "output_type": "stream",
     "text": [
      "\rIteration 9\tTotal Reward 1809.463071\tMean Reward 201.051452   \rIteration 19\tTotal Reward 4025.245184\tMean Reward 211.855010   "
     ]
    },
    {
     "name": "stdout",
     "output_type": "stream",
     "text": [
      "\rIteration 29\tTotal Reward 7369.510955\tMean Reward 254.121067   \rIteration 39\tTotal Reward 9036.047235\tMean Reward 231.693519   "
     ]
    },
    {
     "name": "stdout",
     "output_type": "stream",
     "text": [
      "\rIteration 49\tTotal Reward 11428.597516\tMean Reward 233.236684   "
     ]
    },
    {
     "name": "stdout",
     "output_type": "stream",
     "text": [
      "\rIteration 59\tTotal Reward 12847.558613\tMean Reward 217.755231   \rIteration 69\tTotal Reward 14514.094893\tMean Reward 210.349201   "
     ]
    },
    {
     "name": "stdout",
     "output_type": "stream",
     "text": [
      "\rIteration 79\tTotal Reward 18057.305638\tMean Reward 228.573489   \rIteration 89\tTotal Reward 22459.380790\tMean Reward 252.352593   "
     ]
    },
    {
     "name": "stdout",
     "output_type": "stream",
     "text": [
      "\rIteration 99\tTotal Reward 24305.719577\tMean Reward 245.512319   Total reward : 24305.719577254014\nMean reward : 243.05719577254015\n"
     ]
    },
    {
     "name": "stdout",
     "output_type": "stream",
     "text": [
      "\rIteration 9\tTotal Reward 1928.662577\tMean Reward 214.295842   \rIteration 19\tTotal Reward 3410.998618\tMean Reward 179.526243   "
     ]
    },
    {
     "name": "stdout",
     "output_type": "stream",
     "text": [
      "\rIteration 29\tTotal Reward 3664.077627\tMean Reward 126.347504   "
     ]
    },
    {
     "name": "stdout",
     "output_type": "stream",
     "text": [
      "\rIteration 39\tTotal Reward 5719.175459\tMean Reward 146.645525   \rIteration 49\tTotal Reward 5965.524597\tMean Reward 121.745400   "
     ]
    },
    {
     "name": "stdout",
     "output_type": "stream",
     "text": [
      "\rIteration 59\tTotal Reward 7553.195288\tMean Reward 128.020259   "
     ]
    },
    {
     "name": "stdout",
     "output_type": "stream",
     "text": [
      "\rIteration 69\tTotal Reward 10614.284551\tMean Reward 153.830211   "
     ]
    },
    {
     "name": "stdout",
     "output_type": "stream",
     "text": [
      "\rIteration 79\tTotal Reward 11773.628461\tMean Reward 149.033272   "
     ]
    },
    {
     "name": "stdout",
     "output_type": "stream",
     "text": [
      "\rIteration 89\tTotal Reward 12958.981186\tMean Reward 145.606530   "
     ]
    },
    {
     "name": "stdout",
     "output_type": "stream",
     "text": [
      "\rIteration 99\tTotal Reward 14268.417109\tMean Reward 144.125425   Total reward : 14268.417108832804\nMean reward : 142.68417108832804\n"
     ]
    },
    {
     "name": "stdout",
     "output_type": "stream",
     "text": [
      "\rIteration 9\tTotal Reward 1492.083705\tMean Reward 165.787078   "
     ]
    },
    {
     "name": "stdout",
     "output_type": "stream",
     "text": [
      "\rIteration 19\tTotal Reward 2588.863128\tMean Reward 136.255954   \rIteration 29\tTotal Reward 4138.877151\tMean Reward 142.719902   "
     ]
    },
    {
     "name": "stdout",
     "output_type": "stream",
     "text": [
      "\rIteration 39\tTotal Reward 6365.858458\tMean Reward 163.227140   "
     ]
    },
    {
     "name": "stdout",
     "output_type": "stream",
     "text": [
      "\rIteration 49\tTotal Reward 9053.678264\tMean Reward 184.768944   \rIteration 59\tTotal Reward 9827.309752\tMean Reward 166.564572   "
     ]
    },
    {
     "name": "stdout",
     "output_type": "stream",
     "text": [
      "\rIteration 69\tTotal Reward 10554.201159\tMean Reward 152.959437   "
     ]
    },
    {
     "name": "stdout",
     "output_type": "stream",
     "text": [
      "\rIteration 79\tTotal Reward 12011.906496\tMean Reward 152.049449   \rIteration 89\tTotal Reward 13683.779733\tMean Reward 153.750334   "
     ]
    },
    {
     "name": "stdout",
     "output_type": "stream",
     "text": [
      "\rIteration 99\tTotal Reward 16233.582399\tMean Reward 163.975580   Total reward : 16233.582399099289\nMean reward : 162.33582399099288\n"
     ]
    },
    {
     "name": "stdout",
     "output_type": "stream",
     "text": [
      "\rIteration 9\tTotal Reward 828.946460\tMean Reward 92.105162   "
     ]
    },
    {
     "name": "stdout",
     "output_type": "stream",
     "text": [
      "\rIteration 19\tTotal Reward 2412.263841\tMean Reward 126.961255   "
     ]
    },
    {
     "name": "stdout",
     "output_type": "stream",
     "text": [
      "\rIteration 29\tTotal Reward 3114.493447\tMean Reward 107.396326   "
     ]
    },
    {
     "name": "stdout",
     "output_type": "stream",
     "text": [
      "\rIteration 39\tTotal Reward 4081.181834\tMean Reward 104.645688   "
     ]
    },
    {
     "name": "stdout",
     "output_type": "stream",
     "text": [
      "\rIteration 49\tTotal Reward 4230.547989\tMean Reward 86.337714   "
     ]
    },
    {
     "name": "stdout",
     "output_type": "stream",
     "text": [
      "\rIteration 59\tTotal Reward 6179.946289\tMean Reward 104.744852   "
     ]
    },
    {
     "name": "stdout",
     "output_type": "stream",
     "text": [
      "\rIteration 69\tTotal Reward 6967.592177\tMean Reward 100.979597   "
     ]
    },
    {
     "name": "stdout",
     "output_type": "stream",
     "text": [
      "\rIteration 79\tTotal Reward 6967.592177\tMean Reward 88.197369   "
     ]
    },
    {
     "name": "stdout",
     "output_type": "stream",
     "text": [
      "\rIteration 89\tTotal Reward 9072.384929\tMean Reward 101.936909   "
     ]
    },
    {
     "name": "stdout",
     "output_type": "stream",
     "text": [
      "\rIteration 99\tTotal Reward 12128.914113\tMean Reward 122.514284   Total reward : 12128.914113173558\nMean reward : 121.28914113173558\n"
     ]
    },
    {
     "name": "stdout",
     "output_type": "stream",
     "text": [
      "\rIteration 9\tTotal Reward 1377.215296\tMean Reward 153.023922   "
     ]
    },
    {
     "name": "stdout",
     "output_type": "stream",
     "text": [
      "\rIteration 19\tTotal Reward 2845.064320\tMean Reward 149.740227   \rIteration 29\tTotal Reward 4672.304868\tMean Reward 161.113961   "
     ]
    },
    {
     "name": "stdout",
     "output_type": "stream",
     "text": [
      "\rIteration 39\tTotal Reward 8805.679848\tMean Reward 225.786663   "
     ]
    },
    {
     "name": "stdout",
     "output_type": "stream",
     "text": [
      "\rIteration 49\tTotal Reward 9765.036105\tMean Reward 199.286451   "
     ]
    },
    {
     "name": "stdout",
     "output_type": "stream",
     "text": [
      "\rIteration 59\tTotal Reward 11467.900546\tMean Reward 194.371196   "
     ]
    },
    {
     "name": "stdout",
     "output_type": "stream",
     "text": [
      "\rIteration 69\tTotal Reward 15366.260109\tMean Reward 222.699422   "
     ]
    },
    {
     "name": "stdout",
     "output_type": "stream",
     "text": [
      "\rIteration 79\tTotal Reward 17641.058889\tMean Reward 223.304543   "
     ]
    },
    {
     "name": "stdout",
     "output_type": "stream",
     "text": [
      "\rIteration 89\tTotal Reward 17641.058889\tMean Reward 198.214145   "
     ]
    },
    {
     "name": "stdout",
     "output_type": "stream",
     "text": [
      "\rIteration 99\tTotal Reward 20580.062195\tMean Reward 207.879416   Total reward : 21569.885719898186\nMean reward : 215.69885719898187\n"
     ]
    },
    {
     "name": "stdout",
     "output_type": "stream",
     "text": [
      "\rIteration 9\tTotal Reward 2086.717979\tMean Reward 231.857553   "
     ]
    },
    {
     "name": "stdout",
     "output_type": "stream",
     "text": [
      "\rIteration 19\tTotal Reward 2090.737952\tMean Reward 110.038840   \rIteration 29\tTotal Reward 2497.067997\tMean Reward 86.105793   "
     ]
    },
    {
     "name": "stdout",
     "output_type": "stream",
     "text": [
      "\rIteration 39\tTotal Reward 3897.207017\tMean Reward 99.928385   \rIteration 49\tTotal Reward 5429.000241\tMean Reward 110.795923   "
     ]
    },
    {
     "name": "stdout",
     "output_type": "stream",
     "text": [
      "\rIteration 59\tTotal Reward 6271.622839\tMean Reward 106.298692   "
     ]
    },
    {
     "name": "stdout",
     "output_type": "stream",
     "text": [
      "\rIteration 69\tTotal Reward 8820.972547\tMean Reward 127.840182   "
     ]
    },
    {
     "name": "stdout",
     "output_type": "stream",
     "text": [
      "\rIteration 79\tTotal Reward 11199.466678\tMean Reward 141.765401   "
     ]
    },
    {
     "name": "stdout",
     "output_type": "stream",
     "text": [
      "\rIteration 89\tTotal Reward 13271.300013\tMean Reward 149.115730   "
     ]
    },
    {
     "name": "stdout",
     "output_type": "stream",
     "text": [
      "\rIteration 99\tTotal Reward 15241.597455\tMean Reward 153.955530   Total reward : 15241.597454970502\nMean reward : 152.41597454970503\n"
     ]
    },
    {
     "name": "stdout",
     "output_type": "stream",
     "text": [
      "\rIteration 9\tTotal Reward 1707.495280\tMean Reward 189.721698   \rIteration 19\tTotal Reward 5238.486360\tMean Reward 275.709808   "
     ]
    },
    {
     "name": "stdout",
     "output_type": "stream",
     "text": [
      "\rIteration 29\tTotal Reward 6916.371685\tMean Reward 238.495575   "
     ]
    },
    {
     "name": "stdout",
     "output_type": "stream",
     "text": [
      "\rIteration 39\tTotal Reward 10057.088364\tMean Reward 257.874061   \rIteration 49\tTotal Reward 11759.978557\tMean Reward 239.999562   "
     ]
    },
    {
     "name": "stdout",
     "output_type": "stream",
     "text": [
      "\rIteration 59\tTotal Reward 15004.142633\tMean Reward 254.307502   "
     ]
    },
    {
     "name": "stdout",
     "output_type": "stream",
     "text": [
      "\rIteration 69\tTotal Reward 16579.311995\tMean Reward 240.279884   \rIteration 79\tTotal Reward 18846.329343\tMean Reward 238.561131   "
     ]
    },
    {
     "name": "stdout",
     "output_type": "stream",
     "text": [
      "\rIteration 89\tTotal Reward 23803.575772\tMean Reward 267.455908   \rIteration 99\tTotal Reward 25951.377141\tMean Reward 262.135123   "
     ]
    },
    {
     "name": "stdout",
     "output_type": "stream",
     "text": [
      "Total reward : 25951.377140836557\nMean reward : 259.5137714083656\n"
     ]
    },
    {
     "name": "stdout",
     "output_type": "stream",
     "text": [
      "\rIteration 9\tTotal Reward 1645.531994\tMean Reward 182.836888   "
     ]
    },
    {
     "name": "stdout",
     "output_type": "stream",
     "text": [
      "\rIteration 19\tTotal Reward 5710.802544\tMean Reward 300.568555   \rIteration 29\tTotal Reward 9798.926671\tMean Reward 337.894023   "
     ]
    },
    {
     "name": "stdout",
     "output_type": "stream",
     "text": [
      "\rIteration 39\tTotal Reward 12160.317186\tMean Reward 311.803005   \rIteration 49\tTotal Reward 15365.843975\tMean Reward 313.588653   "
     ]
    },
    {
     "name": "stdout",
     "output_type": "stream",
     "text": [
      "\rIteration 59\tTotal Reward 18129.856156\tMean Reward 307.285698   "
     ]
    },
    {
     "name": "stdout",
     "output_type": "stream",
     "text": [
      "\rIteration 69\tTotal Reward 19714.415769\tMean Reward 285.716171   "
     ]
    },
    {
     "name": "stdout",
     "output_type": "stream",
     "text": [
      "\rIteration 79\tTotal Reward 23328.963326\tMean Reward 295.303333   "
     ]
    },
    {
     "name": "stdout",
     "output_type": "stream",
     "text": [
      "\rIteration 89\tTotal Reward 24908.830482\tMean Reward 279.874500   "
     ]
    },
    {
     "name": "stdout",
     "output_type": "stream",
     "text": [
      "\rIteration 99\tTotal Reward 28272.570944\tMean Reward 285.581525   Total reward : 28272.570943601717\nMean reward : 282.72570943601715\n"
     ]
    },
    {
     "name": "stdout",
     "output_type": "stream",
     "text": [
      "\rIteration 9\tTotal Reward 2624.346759\tMean Reward 291.594084   \rIteration 19\tTotal Reward 5266.235050\tMean Reward 277.170266   "
     ]
    },
    {
     "name": "stdout",
     "output_type": "stream",
     "text": [
      "\rIteration 29\tTotal Reward 7629.161983\tMean Reward 263.074551   \rIteration 39\tTotal Reward 9901.848694\tMean Reward 253.893556   "
     ]
    },
    {
     "name": "stdout",
     "output_type": "stream",
     "text": [
      "\rIteration 49\tTotal Reward 11599.683159\tMean Reward 236.728228   "
     ]
    },
    {
     "name": "stdout",
     "output_type": "stream",
     "text": [
      "\rIteration 59\tTotal Reward 14426.166612\tMean Reward 244.511299   "
     ]
    },
    {
     "name": "stdout",
     "output_type": "stream",
     "text": [
      "\rIteration 69\tTotal Reward 18533.507333\tMean Reward 268.601556   \rIteration 79\tTotal Reward 20260.301224\tMean Reward 256.459509   "
     ]
    },
    {
     "name": "stdout",
     "output_type": "stream",
     "text": [
      "\rIteration 89\tTotal Reward 21149.546897\tMean Reward 237.635358   \rIteration 99\tTotal Reward 22776.265142\tMean Reward 230.063284   "
     ]
    },
    {
     "name": "stdout",
     "output_type": "stream",
     "text": [
      "Total reward : 22776.265141996064\nMean reward : 227.76265141996063\n"
     ]
    },
    {
     "name": "stdout",
     "output_type": "stream",
     "text": [
      "\rIteration 9\tTotal Reward 2606.602701\tMean Reward 289.622522   "
     ]
    },
    {
     "name": "stdout",
     "output_type": "stream",
     "text": [
      "\rIteration 19\tTotal Reward 2606.602701\tMean Reward 137.189616   "
     ]
    },
    {
     "name": "stdout",
     "output_type": "stream",
     "text": [
      "\rIteration 29\tTotal Reward 7166.807562\tMean Reward 247.131295   "
     ]
    },
    {
     "name": "stdout",
     "output_type": "stream",
     "text": [
      "\rIteration 39\tTotal Reward 9611.993867\tMean Reward 246.461381   \rIteration 49\tTotal Reward 9611.993867\tMean Reward 196.163140   "
     ]
    },
    {
     "name": "stdout",
     "output_type": "stream",
     "text": [
      "\rIteration 59\tTotal Reward 12142.093314\tMean Reward 205.798192   \rIteration 69\tTotal Reward 14594.641062\tMean Reward 211.516537   "
     ]
    },
    {
     "name": "stdout",
     "output_type": "stream",
     "text": [
      "\rIteration 79\tTotal Reward 16829.600542\tMean Reward 213.032918   \rIteration 89\tTotal Reward 18477.654007\tMean Reward 207.614090   "
     ]
    },
    {
     "name": "stdout",
     "output_type": "stream",
     "text": [
      "\rIteration 99\tTotal Reward 22471.763553\tMean Reward 226.987511   Total reward : 22471.76355336734\nMean reward : 224.7176355336734\n"
     ]
    },
    {
     "name": "stdout",
     "output_type": "stream",
     "text": [
      "\rIteration 9\tTotal Reward 1429.855285\tMean Reward 158.872809   \rIteration 19\tTotal Reward 6424.876820\tMean Reward 338.151412   "
     ]
    },
    {
     "name": "stdout",
     "output_type": "stream",
     "text": [
      "\rIteration 29\tTotal Reward 8401.472709\tMean Reward 289.705955   "
     ]
    },
    {
     "name": "stdout",
     "output_type": "stream",
     "text": [
      "\rIteration 39\tTotal Reward 9889.548977\tMean Reward 253.578179   \rIteration 49\tTotal Reward 12133.805948\tMean Reward 247.628693   "
     ]
    },
    {
     "name": "stdout",
     "output_type": "stream",
     "text": [
      "\rIteration 59\tTotal Reward 15089.640230\tMean Reward 255.756614   \rIteration 69\tTotal Reward 15994.016067\tMean Reward 231.797334   "
     ]
    },
    {
     "name": "stdout",
     "output_type": "stream",
     "text": [
      "\rIteration 79\tTotal Reward 17720.328056\tMean Reward 224.307950   \rIteration 89\tTotal Reward 20338.173245\tMean Reward 228.518801   "
     ]
    },
    {
     "name": "stdout",
     "output_type": "stream",
     "text": [
      "\rIteration 99\tTotal Reward 21710.098742\tMean Reward 219.293927   Total reward : 21710.098742373353\nMean reward : 217.10098742373353\n"
     ]
    },
    {
     "name": "stdout",
     "output_type": "stream",
     "text": [
      "\rIteration 9\tTotal Reward 2735.807615\tMean Reward 303.978624   \rIteration 19\tTotal Reward 4435.274952\tMean Reward 233.435524   "
     ]
    },
    {
     "name": "stdout",
     "output_type": "stream",
     "text": [
      "\rIteration 29\tTotal Reward 5395.647552\tMean Reward 186.056812   "
     ]
    },
    {
     "name": "stdout",
     "output_type": "stream",
     "text": [
      "\rIteration 39\tTotal Reward 6214.619051\tMean Reward 159.349206   "
     ]
    },
    {
     "name": "stdout",
     "output_type": "stream",
     "text": [
      "\rIteration 49\tTotal Reward 7205.594451\tMean Reward 147.052948   \rIteration 59\tTotal Reward 8187.314492\tMean Reward 138.768042   "
     ]
    },
    {
     "name": "stdout",
     "output_type": "stream",
     "text": [
      "\rIteration 69\tTotal Reward 9147.687091\tMean Reward 132.575175   "
     ]
    },
    {
     "name": "stdout",
     "output_type": "stream",
     "text": [
      "\rIteration 79\tTotal Reward 13897.102236\tMean Reward 175.912687   "
     ]
    },
    {
     "name": "stdout",
     "output_type": "stream",
     "text": [
      "\rIteration 89\tTotal Reward 16830.170277\tMean Reward 189.103037   \rIteration 99\tTotal Reward 20189.246792\tMean Reward 203.931786   "
     ]
    },
    {
     "name": "stdout",
     "output_type": "stream",
     "text": [
      "Total reward : 20189.24679158989\nMean reward : 201.8924679158989\n"
     ]
    },
    {
     "name": "stdout",
     "output_type": "stream",
     "text": [
      "\rIteration 9\tTotal Reward 2505.964513\tMean Reward 278.440501   \rIteration 19\tTotal Reward 4853.027836\tMean Reward 255.422518   "
     ]
    },
    {
     "name": "stdout",
     "output_type": "stream",
     "text": [
      "\rIteration 29\tTotal Reward 6836.647760\tMean Reward 235.746474   "
     ]
    },
    {
     "name": "stdout",
     "output_type": "stream",
     "text": [
      "\rIteration 39\tTotal Reward 7829.898310\tMean Reward 200.766623   "
     ]
    },
    {
     "name": "stdout",
     "output_type": "stream",
     "text": [
      "\rIteration 49\tTotal Reward 8450.171218\tMean Reward 172.452474   "
     ]
    },
    {
     "name": "stdout",
     "output_type": "stream",
     "text": [
      "\rIteration 59\tTotal Reward 10252.398288\tMean Reward 173.769463   \rIteration 69\tTotal Reward 11251.270773\tMean Reward 163.061895   "
     ]
    },
    {
     "name": "stdout",
     "output_type": "stream",
     "text": [
      "\rIteration 79\tTotal Reward 13998.345937\tMean Reward 177.194252   "
     ]
    },
    {
     "name": "stdout",
     "output_type": "stream",
     "text": [
      "\rIteration 89\tTotal Reward 14721.753513\tMean Reward 165.412961   \rIteration 99\tTotal Reward 15981.981353\tMean Reward 161.434155   "
     ]
    },
    {
     "name": "stdout",
     "output_type": "stream",
     "text": [
      "Total reward : 15981.981353280895\nMean reward : 159.81981353280895\n"
     ]
    },
    {
     "name": "stdout",
     "output_type": "stream",
     "text": [
      "\rIteration 9\tTotal Reward 2395.767676\tMean Reward 266.196408   "
     ]
    },
    {
     "name": "stdout",
     "output_type": "stream",
     "text": [
      "\rIteration 19\tTotal Reward 5785.020348\tMean Reward 304.474755   "
     ]
    },
    {
     "name": "stdout",
     "output_type": "stream",
     "text": [
      "\rIteration 29\tTotal Reward 8079.462463\tMean Reward 278.602154   \rIteration 39\tTotal Reward 10619.730141\tMean Reward 272.300773   "
     ]
    },
    {
     "name": "stdout",
     "output_type": "stream",
     "text": [
      "\rIteration 49\tTotal Reward 11416.653027\tMean Reward 232.992919   "
     ]
    },
    {
     "name": "stdout",
     "output_type": "stream",
     "text": [
      "\rIteration 59\tTotal Reward 14579.568338\tMean Reward 247.111328   "
     ]
    },
    {
     "name": "stdout",
     "output_type": "stream",
     "text": [
      "\rIteration 69\tTotal Reward 17225.543612\tMean Reward 249.645560   \rIteration 79\tTotal Reward 18170.382137\tMean Reward 230.004837   "
     ]
    },
    {
     "name": "stdout",
     "output_type": "stream",
     "text": [
      "\rIteration 89\tTotal Reward 21559.634809\tMean Reward 242.243088   "
     ]
    },
    {
     "name": "stdout",
     "output_type": "stream",
     "text": [
      "\rIteration 99\tTotal Reward 24789.075712\tMean Reward 250.394704   Total reward : 24789.075711534937\nMean reward : 247.89075711534937\n"
     ]
    },
    {
     "name": "stdout",
     "output_type": "stream",
     "text": [
      "\rIteration 9\tTotal Reward 2584.105853\tMean Reward 287.122873   \rIteration 19\tTotal Reward 3517.376869\tMean Reward 185.125098   "
     ]
    },
    {
     "name": "stdout",
     "output_type": "stream",
     "text": [
      "\rIteration 29\tTotal Reward 7192.663212\tMean Reward 248.022869   \rIteration 39\tTotal Reward 8093.805945\tMean Reward 207.533486   "
     ]
    },
    {
     "name": "stdout",
     "output_type": "stream",
     "text": [
      "\rIteration 49\tTotal Reward 9274.959871\tMean Reward 189.284895   \rIteration 59\tTotal Reward 10636.651221\tMean Reward 180.282224   "
     ]
    },
    {
     "name": "stdout",
     "output_type": "stream",
     "text": [
      "\rIteration 69\tTotal Reward 13397.877720\tMean Reward 194.172141   "
     ]
    },
    {
     "name": "stdout",
     "output_type": "stream",
     "text": [
      "\rIteration 79\tTotal Reward 16645.293601\tMean Reward 210.699919   "
     ]
    },
    {
     "name": "stdout",
     "output_type": "stream",
     "text": [
      "\rIteration 89\tTotal Reward 19758.757016\tMean Reward 222.008506   "
     ]
    },
    {
     "name": "stdout",
     "output_type": "stream",
     "text": [
      "\rIteration 99\tTotal Reward 21437.144083\tMean Reward 216.536809   Total reward : 22129.03788758498\nMean reward : 221.2903788758498\n"
     ]
    },
    {
     "name": "stdout",
     "output_type": "stream",
     "text": [
      "\rIteration 9\tTotal Reward 3503.001406\tMean Reward 389.222378   \rIteration 19\tTotal Reward 6740.574065\tMean Reward 354.767056   "
     ]
    },
    {
     "name": "stdout",
     "output_type": "stream",
     "text": [
      "\rIteration 29\tTotal Reward 8492.074768\tMean Reward 292.830164   \rIteration 39\tTotal Reward 10925.025163\tMean Reward 280.128850   "
     ]
    },
    {
     "name": "stdout",
     "output_type": "stream",
     "text": [
      "\rIteration 49\tTotal Reward 14768.443964\tMean Reward 301.396816   \rIteration 59\tTotal Reward 18244.685854\tMean Reward 309.231964   "
     ]
    },
    {
     "name": "stdout",
     "output_type": "stream",
     "text": [
      "\rIteration 69\tTotal Reward 20993.906538\tMean Reward 304.259515   "
     ]
    },
    {
     "name": "stdout",
     "output_type": "stream",
     "text": [
      "\rIteration 79\tTotal Reward 23451.138132\tMean Reward 296.849850   "
     ]
    },
    {
     "name": "stdout",
     "output_type": "stream",
     "text": [
      "\rIteration 89\tTotal Reward 25237.135420\tMean Reward 283.563319   "
     ]
    },
    {
     "name": "stdout",
     "output_type": "stream",
     "text": [
      "\rIteration 99\tTotal Reward 26234.855402\tMean Reward 264.998539   Total reward : 27228.323529919515\nMean reward : 272.28323529919516\n"
     ]
    },
    {
     "name": "stdout",
     "output_type": "stream",
     "text": [
      "\rIteration 9\tTotal Reward 2809.846645\tMean Reward 312.205183   "
     ]
    },
    {
     "name": "stdout",
     "output_type": "stream",
     "text": [
      "\rIteration 19\tTotal Reward 4711.957279\tMean Reward 247.997752   \rIteration 29\tTotal Reward 6616.546436\tMean Reward 228.156774   "
     ]
    },
    {
     "name": "stdout",
     "output_type": "stream",
     "text": [
      "\rIteration 39\tTotal Reward 10423.246227\tMean Reward 267.262724   \rIteration 49\tTotal Reward 13362.180740\tMean Reward 272.697566   "
     ]
    },
    {
     "name": "stdout",
     "output_type": "stream",
     "text": [
      "\rIteration 59\tTotal Reward 16181.084207\tMean Reward 274.255665   \rIteration 69\tTotal Reward 18060.353185\tMean Reward 261.744249   "
     ]
    },
    {
     "name": "stdout",
     "output_type": "stream",
     "text": [
      "\rIteration 79\tTotal Reward 20879.256652\tMean Reward 264.294388   "
     ]
    },
    {
     "name": "stdout",
     "output_type": "stream",
     "text": [
      "\rIteration 89\tTotal Reward 24651.579441\tMean Reward 276.984039   "
     ]
    },
    {
     "name": "stdout",
     "output_type": "stream",
     "text": [
      "\rIteration 99\tTotal Reward 26553.690076\tMean Reward 268.219092   Total reward : 26553.690075541628\nMean reward : 265.5369007554163\n"
     ]
    },
    {
     "name": "stdout",
     "output_type": "stream",
     "text": [
      "\rIteration 9\tTotal Reward 2677.764454\tMean Reward 297.529384   \rIteration 19\tTotal Reward 5027.042409\tMean Reward 264.581179   "
     ]
    },
    {
     "name": "stdout",
     "output_type": "stream",
     "text": [
      "\rIteration 29\tTotal Reward 6653.076791\tMean Reward 229.416441   \rIteration 39\tTotal Reward 13595.008184\tMean Reward 348.589953   "
     ]
    },
    {
     "name": "stdout",
     "output_type": "stream",
     "text": [
      "\rIteration 49\tTotal Reward 15359.896700\tMean Reward 313.467280   "
     ]
    },
    {
     "name": "stdout",
     "output_type": "stream",
     "text": [
      "\rIteration 59\tTotal Reward 16451.015801\tMean Reward 278.830776   "
     ]
    },
    {
     "name": "stdout",
     "output_type": "stream",
     "text": [
      "\rIteration 69\tTotal Reward 18982.592527\tMean Reward 275.110037   "
     ]
    },
    {
     "name": "stdout",
     "output_type": "stream",
     "text": [
      "\rIteration 79\tTotal Reward 19865.102866\tMean Reward 251.456998   "
     ]
    },
    {
     "name": "stdout",
     "output_type": "stream",
     "text": [
      "\rIteration 89\tTotal Reward 22353.926999\tMean Reward 251.167719   "
     ]
    },
    {
     "name": "stdout",
     "output_type": "stream",
     "text": [
      "\rIteration 99\tTotal Reward 24129.592688\tMean Reward 243.733259   Total reward : 25088.985723832615\nMean reward : 250.88985723832616\n"
     ]
    },
    {
     "name": "stdout",
     "output_type": "stream",
     "text": [
      "\rIteration 9\tTotal Reward 1585.405490\tMean Reward 176.156166   "
     ]
    },
    {
     "name": "stdout",
     "output_type": "stream",
     "text": [
      "\rIteration 19\tTotal Reward 1585.405490\tMean Reward 83.442394   \rIteration 29\tTotal Reward 3429.834520\tMean Reward 118.270156   "
     ]
    },
    {
     "name": "stdout",
     "output_type": "stream",
     "text": [
      "\rIteration 39\tTotal Reward 7159.705699\tMean Reward 183.582197   \rIteration 49\tTotal Reward 8056.152467\tMean Reward 164.411275   "
     ]
    },
    {
     "name": "stdout",
     "output_type": "stream",
     "text": [
      "\rIteration 59\tTotal Reward 9004.134730\tMean Reward 152.612453   "
     ]
    },
    {
     "name": "stdout",
     "output_type": "stream",
     "text": [
      "\rIteration 69\tTotal Reward 12705.929858\tMean Reward 184.143911   "
     ]
    },
    {
     "name": "stdout",
     "output_type": "stream",
     "text": [
      "\rIteration 79\tTotal Reward 14601.894383\tMean Reward 184.834106   \rIteration 89\tTotal Reward 15498.341151\tMean Reward 174.138665   "
     ]
    },
    {
     "name": "stdout",
     "output_type": "stream",
     "text": [
      "\rIteration 99\tTotal Reward 17394.305675\tMean Reward 175.700057   Total reward : 17394.3056752272\nMean reward : 173.94305675227199\n"
     ]
    },
    {
     "name": "stdout",
     "output_type": "stream",
     "text": [
      "\rIteration 9\tTotal Reward 2556.562781\tMean Reward 284.062531   \rIteration 19\tTotal Reward 5526.391485\tMean Reward 290.862710   "
     ]
    },
    {
     "name": "stdout",
     "output_type": "stream",
     "text": [
      "\rIteration 29\tTotal Reward 7181.813162\tMean Reward 247.648730   \rIteration 39\tTotal Reward 7181.813162\tMean Reward 184.149055   "
     ]
    },
    {
     "name": "stdout",
     "output_type": "stream",
     "text": [
      "\rIteration 49\tTotal Reward 9453.196139\tMean Reward 192.922370   \rIteration 59\tTotal Reward 11050.957118\tMean Reward 187.304358   "
     ]
    },
    {
     "name": "stdout",
     "output_type": "stream",
     "text": [
      "\rIteration 69\tTotal Reward 11050.957118\tMean Reward 160.158799   \rIteration 79\tTotal Reward 14950.075907\tMean Reward 189.241467   "
     ]
    },
    {
     "name": "stdout",
     "output_type": "stream",
     "text": [
      "\rIteration 89\tTotal Reward 16389.361627\tMean Reward 184.150131   "
     ]
    },
    {
     "name": "stdout",
     "output_type": "stream",
     "text": [
      "\rIteration 99\tTotal Reward 18067.583438\tMean Reward 182.500843   Total reward : 18067.58343802862\nMean reward : 180.6758343802862\n"
     ]
    },
    {
     "name": "stdout",
     "output_type": "stream",
     "text": [
      "\rIteration 9\tTotal Reward 3425.030920\tMean Reward 380.558991   \rIteration 19\tTotal Reward 5097.760754\tMean Reward 268.303198   "
     ]
    },
    {
     "name": "stdout",
     "output_type": "stream",
     "text": [
      "\rIteration 29\tTotal Reward 7586.510671\tMean Reward 261.603816   \rIteration 39\tTotal Reward 11631.634227\tMean Reward 298.247031   "
     ]
    },
    {
     "name": "stdout",
     "output_type": "stream",
     "text": [
      "\rIteration 49\tTotal Reward 11631.634227\tMean Reward 237.380290   "
     ]
    },
    {
     "name": "stdout",
     "output_type": "stream",
     "text": [
      "\rIteration 59\tTotal Reward 11631.634227\tMean Reward 197.146343   "
     ]
    },
    {
     "name": "stdout",
     "output_type": "stream",
     "text": [
      "\rIteration 69\tTotal Reward 14788.885659\tMean Reward 214.331676   "
     ]
    },
    {
     "name": "stdout",
     "output_type": "stream",
     "text": [
      "\rIteration 79\tTotal Reward 19542.539195\tMean Reward 247.373914   \rIteration 89\tTotal Reward 20420.266083\tMean Reward 229.441192   "
     ]
    },
    {
     "name": "stdout",
     "output_type": "stream",
     "text": [
      "\rIteration 99\tTotal Reward 22909.016000\tMean Reward 231.404202   Total reward : 22909.015999831317\nMean reward : 229.09015999831317\n"
     ]
    },
    {
     "name": "stdout",
     "output_type": "stream",
     "text": [
      "\rIteration 9\tTotal Reward 5258.522085\tMean Reward 584.280232   \rIteration 19\tTotal Reward 8758.232769\tMean Reward 460.959619   "
     ]
    },
    {
     "name": "stdout",
     "output_type": "stream",
     "text": [
      "\rIteration 29\tTotal Reward 10379.668391\tMean Reward 357.919600   \rIteration 39\tTotal Reward 13386.826605\tMean Reward 343.251964   "
     ]
    },
    {
     "name": "stdout",
     "output_type": "stream",
     "text": [
      "\rIteration 49\tTotal Reward 15792.352783\tMean Reward 322.292914   \rIteration 59\tTotal Reward 20379.887564\tMean Reward 345.421823   "
     ]
    },
    {
     "name": "stdout",
     "output_type": "stream",
     "text": [
      "\rIteration 69\tTotal Reward 24935.277210\tMean Reward 361.380829   "
     ]
    },
    {
     "name": "stdout",
     "output_type": "stream",
     "text": [
      "\rIteration 79\tTotal Reward 26549.987318\tMean Reward 336.075789   \rIteration 89\tTotal Reward 27575.853577\tMean Reward 309.841051   "
     ]
    },
    {
     "name": "stdout",
     "output_type": "stream",
     "text": [
      "\rIteration 99\tTotal Reward 28956.666088\tMean Reward 292.491577   Total reward : 28956.66608822884\nMean reward : 289.56666088228843\n"
     ]
    },
    {
     "name": "stdout",
     "output_type": "stream",
     "text": [
      "\rIteration 9\tTotal Reward 3685.594313\tMean Reward 409.510479   "
     ]
    },
    {
     "name": "stdout",
     "output_type": "stream",
     "text": [
      "\rIteration 19\tTotal Reward 8333.743149\tMean Reward 438.618060   \rIteration 29\tTotal Reward 13396.242405\tMean Reward 461.939393   "
     ]
    },
    {
     "name": "stdout",
     "output_type": "stream",
     "text": [
      "\rIteration 39\tTotal Reward 17135.947586\tMean Reward 439.383271   \rIteration 49\tTotal Reward 18932.770698\tMean Reward 386.383075   "
     ]
    },
    {
     "name": "stdout",
     "output_type": "stream",
     "text": [
      "\rIteration 59\tTotal Reward 21468.089770\tMean Reward 363.865928   "
     ]
    },
    {
     "name": "stdout",
     "output_type": "stream",
     "text": [
      "\rIteration 69\tTotal Reward 23264.912882\tMean Reward 337.172650   "
     ]
    },
    {
     "name": "stdout",
     "output_type": "stream",
     "text": [
      "\rIteration 79\tTotal Reward 25844.848829\tMean Reward 327.149985   \rIteration 89\tTotal Reward 27481.756344\tMean Reward 308.783779   "
     ]
    },
    {
     "name": "stdout",
     "output_type": "stream",
     "text": [
      "\rIteration 99\tTotal Reward 30862.976112\tMean Reward 311.747233   Total reward : 30862.9761115728\nMean reward : 308.629761115728\n"
     ]
    },
    {
     "name": "stdout",
     "output_type": "stream",
     "text": [
      "\rIteration 9\tTotal Reward 2172.759298\tMean Reward 241.417700   "
     ]
    },
    {
     "name": "stdout",
     "output_type": "stream",
     "text": [
      "\rIteration 19\tTotal Reward 2172.759298\tMean Reward 114.355753   "
     ]
    },
    {
     "name": "stdout",
     "output_type": "stream",
     "text": [
      "\rIteration 29\tTotal Reward 3815.807385\tMean Reward 131.579565   "
     ]
    },
    {
     "name": "stdout",
     "output_type": "stream",
     "text": [
      "\rIteration 39\tTotal Reward 5455.684639\tMean Reward 139.889350   "
     ]
    },
    {
     "name": "stdout",
     "output_type": "stream",
     "text": [
      "\rIteration 49\tTotal Reward 6201.824029\tMean Reward 126.567837   \rIteration 59\tTotal Reward 7651.139928\tMean Reward 129.680338   "
     ]
    },
    {
     "name": "stdout",
     "output_type": "stream",
     "text": [
      "\rIteration 69\tTotal Reward 8487.918014\tMean Reward 123.013305   \rIteration 79\tTotal Reward 10259.120705\tMean Reward 129.862287   "
     ]
    },
    {
     "name": "stdout",
     "output_type": "stream",
     "text": [
      "\rIteration 89\tTotal Reward 11769.028812\tMean Reward 132.236279   \rIteration 99\tTotal Reward 13407.285454\tMean Reward 135.427126   "
     ]
    },
    {
     "name": "stdout",
     "output_type": "stream",
     "text": [
      "Total reward : 13407.285453613868\nMean reward : 134.07285453613866\n"
     ]
    },
    {
     "name": "stdout",
     "output_type": "stream",
     "text": [
      "\rIteration 9\tTotal Reward 3473.055489\tMean Reward 385.895054   "
     ]
    },
    {
     "name": "stdout",
     "output_type": "stream",
     "text": [
      "\rIteration 19\tTotal Reward 3473.055489\tMean Reward 182.792394   "
     ]
    },
    {
     "name": "stdout",
     "output_type": "stream",
     "text": [
      "\rIteration 29\tTotal Reward 7192.624887\tMean Reward 248.021548   \rIteration 39\tTotal Reward 7192.624887\tMean Reward 184.426279   "
     ]
    },
    {
     "name": "stdout",
     "output_type": "stream",
     "text": [
      "\rIteration 49\tTotal Reward 9068.832678\tMean Reward 185.078218   \rIteration 59\tTotal Reward 10859.508776\tMean Reward 184.059471   "
     ]
    },
    {
     "name": "stdout",
     "output_type": "stream",
     "text": [
      "\rIteration 69\tTotal Reward 11797.612672\tMean Reward 170.979894   \rIteration 79\tTotal Reward 13651.601752\tMean Reward 172.805085   "
     ]
    },
    {
     "name": "stdout",
     "output_type": "stream",
     "text": [
      "\rIteration 89\tTotal Reward 13651.601752\tMean Reward 153.388784   "
     ]
    },
    {
     "name": "stdout",
     "output_type": "stream",
     "text": [
      "\rIteration 99\tTotal Reward 14504.173953\tMean Reward 146.506808   Total reward : 14504.173953494092\nMean reward : 145.04173953494092\n"
     ]
    },
    {
     "name": "stdout",
     "output_type": "stream",
     "text": [
      "\rIteration 9\tTotal Reward 2972.912852\tMean Reward 330.323650   \rIteration 19\tTotal Reward 5400.272986\tMean Reward 284.224894   "
     ]
    },
    {
     "name": "stdout",
     "output_type": "stream",
     "text": [
      "\rIteration 29\tTotal Reward 8182.530195\tMean Reward 282.156214   "
     ]
    },
    {
     "name": "stdout",
     "output_type": "stream",
     "text": [
      "\rIteration 39\tTotal Reward 8182.530195\tMean Reward 209.808467   "
     ]
    },
    {
     "name": "stdout",
     "output_type": "stream",
     "text": [
      "\rIteration 49\tTotal Reward 10584.529131\tMean Reward 216.010799   "
     ]
    },
    {
     "name": "stdout",
     "output_type": "stream",
     "text": [
      "\rIteration 59\tTotal Reward 14405.203373\tMean Reward 244.155989   "
     ]
    },
    {
     "name": "stdout",
     "output_type": "stream",
     "text": [
      "\rIteration 69\tTotal Reward 17857.177999\tMean Reward 258.799681   "
     ]
    },
    {
     "name": "stdout",
     "output_type": "stream",
     "text": [
      "\rIteration 79\tTotal Reward 21327.435854\tMean Reward 269.967542   "
     ]
    },
    {
     "name": "stdout",
     "output_type": "stream",
     "text": [
      "\rIteration 89\tTotal Reward 23073.102853\tMean Reward 259.248347   "
     ]
    },
    {
     "name": "stdout",
     "output_type": "stream",
     "text": [
      "\rIteration 99\tTotal Reward 23073.102853\tMean Reward 233.061645   Total reward : 23073.10285340719\nMean reward : 230.7310285340719\n"
     ]
    },
    {
     "name": "stdout",
     "output_type": "stream",
     "text": [
      "\rIteration 9\tTotal Reward 3292.015641\tMean Reward 365.779516   \rIteration 19\tTotal Reward 8165.352536\tMean Reward 429.755397   "
     ]
    },
    {
     "name": "stdout",
     "output_type": "stream",
     "text": [
      "\rIteration 29\tTotal Reward 8782.984241\tMean Reward 302.861526   "
     ]
    },
    {
     "name": "stdout",
     "output_type": "stream",
     "text": [
      "\rIteration 39\tTotal Reward 12050.252899\tMean Reward 308.980844   "
     ]
    },
    {
     "name": "stdout",
     "output_type": "stream",
     "text": [
      "\rIteration 49\tTotal Reward 16194.550035\tMean Reward 330.501021   "
     ]
    },
    {
     "name": "stdout",
     "output_type": "stream",
     "text": [
      "\rIteration 59\tTotal Reward 17826.434872\tMean Reward 302.142964   "
     ]
    },
    {
     "name": "stdout",
     "output_type": "stream",
     "text": [
      "\rIteration 69\tTotal Reward 18690.187733\tMean Reward 270.872286   "
     ]
    },
    {
     "name": "stdout",
     "output_type": "stream",
     "text": [
      "\rIteration 79\tTotal Reward 20968.162716\tMean Reward 265.419781   "
     ]
    },
    {
     "name": "stdout",
     "output_type": "stream",
     "text": [
      "\rIteration 89\tTotal Reward 24042.515641\tMean Reward 270.140625   "
     ]
    },
    {
     "name": "stdout",
     "output_type": "stream",
     "text": [
      "\rIteration 99\tTotal Reward 26296.973100\tMean Reward 265.625991   Total reward : 27140.86729472006\nMean reward : 271.4086729472006\n"
     ]
    },
    {
     "name": "stdout",
     "output_type": "stream",
     "text": [
      "\rIteration 9\tTotal Reward 1819.397071\tMean Reward 202.155230   \rIteration 19\tTotal Reward 3638.794142\tMean Reward 191.515481   "
     ]
    },
    {
     "name": "stdout",
     "output_type": "stream",
     "text": [
      "\rIteration 29\tTotal Reward 5764.829535\tMean Reward 198.787225   "
     ]
    },
    {
     "name": "stdout",
     "output_type": "stream",
     "text": [
      "\rIteration 39\tTotal Reward 8203.240215\tMean Reward 210.339493   "
     ]
    },
    {
     "name": "stdout",
     "output_type": "stream",
     "text": [
      "\rIteration 49\tTotal Reward 10029.510419\tMean Reward 204.683886   "
     ]
    },
    {
     "name": "stdout",
     "output_type": "stream",
     "text": [
      "\rIteration 59\tTotal Reward 12456.218001\tMean Reward 211.122339   "
     ]
    },
    {
     "name": "stdout",
     "output_type": "stream",
     "text": [
      "\rIteration 69\tTotal Reward 14886.668695\tMean Reward 215.748822   "
     ]
    },
    {
     "name": "stdout",
     "output_type": "stream",
     "text": [
      "\rIteration 79\tTotal Reward 16993.989738\tMean Reward 215.113794   "
     ]
    },
    {
     "name": "stdout",
     "output_type": "stream",
     "text": [
      "\rIteration 89\tTotal Reward 20380.315926\tMean Reward 228.992314   "
     ]
    },
    {
     "name": "stdout",
     "output_type": "stream",
     "text": [
      "\rIteration 99\tTotal Reward 20795.714207\tMean Reward 210.057719   Total reward : 20795.71420665019\nMean reward : 207.95714206650192\n"
     ]
    },
    {
     "name": "stdout",
     "output_type": "stream",
     "text": [
      "\rIteration 9\tTotal Reward 1651.813205\tMean Reward 183.534801   "
     ]
    },
    {
     "name": "stdout",
     "output_type": "stream",
     "text": [
      "\rIteration 19\tTotal Reward 4265.530047\tMean Reward 224.501581   "
     ]
    },
    {
     "name": "stdout",
     "output_type": "stream",
     "text": [
      "\rIteration 29\tTotal Reward 6178.943925\tMean Reward 213.067032   "
     ]
    },
    {
     "name": "stdout",
     "output_type": "stream",
     "text": [
      "\rIteration 39\tTotal Reward 9084.740939\tMean Reward 232.942075   "
     ]
    },
    {
     "name": "stdout",
     "output_type": "stream",
     "text": [
      "\rIteration 49\tTotal Reward 10894.170279\tMean Reward 222.330006   "
     ]
    },
    {
     "name": "stdout",
     "output_type": "stream",
     "text": [
      "\rIteration 59\tTotal Reward 13844.328281\tMean Reward 234.649632   \rIteration 69\tTotal Reward 15546.190796\tMean Reward 225.307113   "
     ]
    },
    {
     "name": "stdout",
     "output_type": "stream",
     "text": [
      "\rIteration 79\tTotal Reward 17269.356393\tMean Reward 218.599448   "
     ]
    },
    {
     "name": "stdout",
     "output_type": "stream",
     "text": [
      "\rIteration 89\tTotal Reward 19432.402002\tMean Reward 218.341596   "
     ]
    },
    {
     "name": "stdout",
     "output_type": "stream",
     "text": [
      "\rIteration 99\tTotal Reward 22338.199016\tMean Reward 225.638374   Total reward : 22338.199015956932\nMean reward : 223.3819901595693\n"
     ]
    },
    {
     "name": "stdout",
     "output_type": "stream",
     "text": [
      "\rIteration 9\tTotal Reward 1326.342015\tMean Reward 147.371335   "
     ]
    },
    {
     "name": "stdout",
     "output_type": "stream",
     "text": [
      "\rIteration 19\tTotal Reward 3512.324945\tMean Reward 184.859208   "
     ]
    },
    {
     "name": "stdout",
     "output_type": "stream",
     "text": [
      "\rIteration 29\tTotal Reward 5016.608918\tMean Reward 172.986514   \rIteration 39\tTotal Reward 7426.650783\tMean Reward 190.426943   "
     ]
    },
    {
     "name": "stdout",
     "output_type": "stream",
     "text": [
      "\rIteration 49\tTotal Reward 10017.411282\tMean Reward 204.436965   "
     ]
    },
    {
     "name": "stdout",
     "output_type": "stream",
     "text": [
      "\rIteration 59\tTotal Reward 13192.633067\tMean Reward 223.603950   "
     ]
    },
    {
     "name": "stdout",
     "output_type": "stream",
     "text": [
      "\rIteration 69\tTotal Reward 13704.913591\tMean Reward 198.621936   "
     ]
    },
    {
     "name": "stdout",
     "output_type": "stream",
     "text": [
      "\rIteration 79\tTotal Reward 16002.261019\tMean Reward 202.560266   "
     ]
    },
    {
     "name": "stdout",
     "output_type": "stream",
     "text": [
      "\rIteration 89\tTotal Reward 16646.847866\tMean Reward 187.043234   "
     ]
    },
    {
     "name": "stdout",
     "output_type": "stream",
     "text": [
      "\rIteration 99\tTotal Reward 18977.767882\tMean Reward 191.694625   Total reward : 18977.76788206368\nMean reward : 189.7776788206368\n"
     ]
    },
    {
     "name": "stdout",
     "output_type": "stream",
     "text": [
      "\rIteration 9\tTotal Reward 1865.598938\tMean Reward 207.288771   "
     ]
    },
    {
     "name": "stdout",
     "output_type": "stream",
     "text": [
      "\rIteration 19\tTotal Reward 6068.312639\tMean Reward 319.384876   \rIteration 29\tTotal Reward 10945.461675\tMean Reward 377.429713   "
     ]
    },
    {
     "name": "stdout",
     "output_type": "stream",
     "text": [
      "\rIteration 39\tTotal Reward 13292.539822\tMean Reward 340.834354   "
     ]
    },
    {
     "name": "stdout",
     "output_type": "stream",
     "text": [
      "\rIteration 49\tTotal Reward 16407.749267\tMean Reward 334.852026   "
     ]
    },
    {
     "name": "stdout",
     "output_type": "stream",
     "text": [
      "\rIteration 59\tTotal Reward 23211.436836\tMean Reward 393.414184   "
     ]
    },
    {
     "name": "stdout",
     "output_type": "stream",
     "text": [
      "\rIteration 69\tTotal Reward 25510.878645\tMean Reward 369.722879   "
     ]
    },
    {
     "name": "stdout",
     "output_type": "stream",
     "text": [
      "\rIteration 79\tTotal Reward 31054.478768\tMean Reward 393.094668   "
     ]
    },
    {
     "name": "stdout",
     "output_type": "stream",
     "text": [
      "\rIteration 89\tTotal Reward 32808.671117\tMean Reward 368.636754   "
     ]
    },
    {
     "name": "stdout",
     "output_type": "stream",
     "text": [
      "\rIteration 99\tTotal Reward 33512.963504\tMean Reward 338.514783   Total reward : 34334.35638376391\nMean reward : 343.34356383763907\n"
     ]
    },
    {
     "name": "stdout",
     "output_type": "stream",
     "text": [
      "\rIteration 9\tTotal Reward 2417.446840\tMean Reward 268.605204   \rIteration 19\tTotal Reward 3971.015194\tMean Reward 209.000800   "
     ]
    },
    {
     "name": "stdout",
     "output_type": "stream",
     "text": [
      "\rIteration 29\tTotal Reward 4773.091306\tMean Reward 164.589355   \rIteration 39\tTotal Reward 6515.521317\tMean Reward 167.064649   "
     ]
    },
    {
     "name": "stdout",
     "output_type": "stream",
     "text": [
      "\rIteration 49\tTotal Reward 8130.892045\tMean Reward 165.936572   "
     ]
    },
    {
     "name": "stdout",
     "output_type": "stream",
     "text": [
      "\rIteration 59\tTotal Reward 11623.779611\tMean Reward 197.013214   \rIteration 69\tTotal Reward 13344.324171\tMean Reward 193.396002   "
     ]
    },
    {
     "name": "stdout",
     "output_type": "stream",
     "text": [
      "\rIteration 79\tTotal Reward 16155.948855\tMean Reward 204.505682   "
     ]
    },
    {
     "name": "stdout",
     "output_type": "stream",
     "text": [
      "\rIteration 89\tTotal Reward 19528.023190\tMean Reward 219.415991   "
     ]
    },
    {
     "name": "stdout",
     "output_type": "stream",
     "text": [
      "\rIteration 99\tTotal Reward 20505.502495\tMean Reward 207.126288   Total reward : 20505.502495015742\nMean reward : 205.05502495015742\n"
     ]
    },
    {
     "name": "stdout",
     "output_type": "stream",
     "text": [
      "\rIteration 9\tTotal Reward 1778.767692\tMean Reward 197.640855   "
     ]
    },
    {
     "name": "stdout",
     "output_type": "stream",
     "text": [
      "\rIteration 19\tTotal Reward 4951.864443\tMean Reward 260.624444   "
     ]
    },
    {
     "name": "stdout",
     "output_type": "stream",
     "text": [
      "\rIteration 29\tTotal Reward 6260.567404\tMean Reward 215.881635   "
     ]
    },
    {
     "name": "stdout",
     "output_type": "stream",
     "text": [
      "\rIteration 39\tTotal Reward 8996.565278\tMean Reward 230.681161   "
     ]
    },
    {
     "name": "stdout",
     "output_type": "stream",
     "text": [
      "\rIteration 49\tTotal Reward 12981.083515\tMean Reward 264.920072   "
     ]
    },
    {
     "name": "stdout",
     "output_type": "stream",
     "text": [
      "\rIteration 59\tTotal Reward 15647.007291\tMean Reward 265.203513   \rIteration 69\tTotal Reward 18467.893255\tMean Reward 267.650627   "
     ]
    },
    {
     "name": "stdout",
     "output_type": "stream",
     "text": [
      "\rIteration 79\tTotal Reward 20443.781371\tMean Reward 258.782043   "
     ]
    },
    {
     "name": "stdout",
     "output_type": "stream",
     "text": [
      "\rIteration 89\tTotal Reward 22805.802974\tMean Reward 256.244977   "
     ]
    },
    {
     "name": "stdout",
     "output_type": "stream",
     "text": [
      "\rIteration 99\tTotal Reward 26427.939296\tMean Reward 266.948882   Total reward : 26427.939296048236\nMean reward : 264.27939296048237\n"
     ]
    },
    {
     "name": "stdout",
     "output_type": "stream",
     "text": [
      "\rIteration 9\tTotal Reward 3687.899783\tMean Reward 409.766643   "
     ]
    },
    {
     "name": "stdout",
     "output_type": "stream",
     "text": [
      "\rIteration 19\tTotal Reward 4687.799199\tMean Reward 246.726274   \rIteration 29\tTotal Reward 8337.662182\tMean Reward 287.505592   "
     ]
    },
    {
     "name": "stdout",
     "output_type": "stream",
     "text": [
      "\rIteration 39\tTotal Reward 11702.150760\tMean Reward 300.055148   "
     ]
    },
    {
     "name": "stdout",
     "output_type": "stream",
     "text": [
      "\rIteration 49\tTotal Reward 14835.763669\tMean Reward 302.770687   "
     ]
    },
    {
     "name": "stdout",
     "output_type": "stream",
     "text": [
      "\rIteration 59\tTotal Reward 16811.209257\tMean Reward 284.935750   "
     ]
    },
    {
     "name": "stdout",
     "output_type": "stream",
     "text": [
      "\rIteration 69\tTotal Reward 21683.551942\tMean Reward 314.254376   "
     ]
    },
    {
     "name": "stdout",
     "output_type": "stream",
     "text": [
      "\rIteration 79\tTotal Reward 24380.668467\tMean Reward 308.616057   "
     ]
    },
    {
     "name": "stdout",
     "output_type": "stream",
     "text": [
      "\rIteration 89\tTotal Reward 25110.971168\tMean Reward 282.145743   "
     ]
    },
    {
     "name": "stdout",
     "output_type": "stream",
     "text": [
      "\rIteration 99\tTotal Reward 27062.063510\tMean Reward 273.354177   Total reward : 28007.86826474672\nMean reward : 280.0786826474672\n"
     ]
    },
    {
     "name": "stdout",
     "output_type": "stream",
     "text": [
      "\rIteration 9\tTotal Reward 2244.687895\tMean Reward 249.409766   "
     ]
    },
    {
     "name": "stdout",
     "output_type": "stream",
     "text": [
      "\rIteration 19\tTotal Reward 5970.329831\tMean Reward 314.227886   \rIteration 29\tTotal Reward 7291.191380\tMean Reward 251.420392   "
     ]
    },
    {
     "name": "stdout",
     "output_type": "stream",
     "text": [
      "\rIteration 39\tTotal Reward 7985.249861\tMean Reward 204.749996   \rIteration 49\tTotal Reward 10335.259640\tMean Reward 210.923666   "
     ]
    },
    {
     "name": "stdout",
     "output_type": "stream",
     "text": [
      "\rIteration 59\tTotal Reward 12296.840707\tMean Reward 208.421029   "
     ]
    },
    {
     "name": "stdout",
     "output_type": "stream",
     "text": [
      "\rIteration 69\tTotal Reward 15140.145667\tMean Reward 219.422401   "
     ]
    },
    {
     "name": "stdout",
     "output_type": "stream",
     "text": [
      "\rIteration 79\tTotal Reward 18793.468842\tMean Reward 237.892011   \rIteration 89\tTotal Reward 21988.012843\tMean Reward 247.056324   "
     ]
    },
    {
     "name": "stdout",
     "output_type": "stream",
     "text": [
      "\rIteration 99\tTotal Reward 23844.978153\tMean Reward 240.858365   Total reward : 23844.978153240136\nMean reward : 238.44978153240135\n"
     ]
    },
    {
     "name": "stdout",
     "output_type": "stream",
     "text": [
      "\rIteration 9\tTotal Reward 2284.027495\tMean Reward 253.780833   \rIteration 19\tTotal Reward 3963.527226\tMean Reward 208.606696   "
     ]
    },
    {
     "name": "stdout",
     "output_type": "stream",
     "text": [
      "\rIteration 29\tTotal Reward 6329.926829\tMean Reward 218.273339   \rIteration 39\tTotal Reward 9538.980330\tMean Reward 244.589239   "
     ]
    },
    {
     "name": "stdout",
     "output_type": "stream",
     "text": [
      "\rIteration 49\tTotal Reward 12369.095588\tMean Reward 252.430522   \rIteration 59\tTotal Reward 15306.040889\tMean Reward 259.424422   "
     ]
    },
    {
     "name": "stdout",
     "output_type": "stream",
     "text": [
      "\rIteration 69\tTotal Reward 17614.765549\tMean Reward 255.286457   "
     ]
    },
    {
     "name": "stdout",
     "output_type": "stream",
     "text": [
      "\rIteration 79\tTotal Reward 20623.967956\tMean Reward 261.062886   "
     ]
    },
    {
     "name": "stdout",
     "output_type": "stream",
     "text": [
      "\rIteration 89\tTotal Reward 21332.653960\tMean Reward 239.692741   "
     ]
    },
    {
     "name": "stdout",
     "output_type": "stream",
     "text": [
      "\rIteration 99\tTotal Reward 22846.739387\tMean Reward 230.775145   Total reward : 22846.739387043068\nMean reward : 228.46739387043067\n"
     ]
    },
    {
     "name": "stdout",
     "output_type": "stream",
     "text": [
      "\rIteration 9\tTotal Reward 1594.902749\tMean Reward 177.211417   "
     ]
    },
    {
     "name": "stdout",
     "output_type": "stream",
     "text": [
      "\rIteration 19\tTotal Reward 5332.415366\tMean Reward 280.653440   "
     ]
    },
    {
     "name": "stdout",
     "output_type": "stream",
     "text": [
      "\rIteration 29\tTotal Reward 8900.787357\tMean Reward 306.923702   "
     ]
    },
    {
     "name": "stdout",
     "output_type": "stream",
     "text": [
      "\rIteration 39\tTotal Reward 11662.345881\tMean Reward 299.034510   "
     ]
    },
    {
     "name": "stdout",
     "output_type": "stream",
     "text": [
      "\rIteration 49\tTotal Reward 14476.388248\tMean Reward 295.436495   "
     ]
    },
    {
     "name": "stdout",
     "output_type": "stream",
     "text": [
      "\rIteration 59\tTotal Reward 18579.344776\tMean Reward 314.904149   \rIteration 69\tTotal Reward 21811.347406\tMean Reward 316.106484   "
     ]
    },
    {
     "name": "stdout",
     "output_type": "stream",
     "text": [
      "\rIteration 79\tTotal Reward 24583.252784\tMean Reward 311.180415   "
     ]
    },
    {
     "name": "stdout",
     "output_type": "stream",
     "text": [
      "\rIteration 89\tTotal Reward 26336.615181\tMean Reward 295.917025   "
     ]
    },
    {
     "name": "stdout",
     "output_type": "stream",
     "text": [
      "\rIteration 99\tTotal Reward 28204.108618\tMean Reward 284.889986   Total reward : 29125.053123675465\nMean reward : 291.2505312367546\n"
     ]
    },
    {
     "name": "stdout",
     "output_type": "stream",
     "text": [
      "\rIteration 9\tTotal Reward 2142.976664\tMean Reward 238.108518   "
     ]
    },
    {
     "name": "stdout",
     "output_type": "stream",
     "text": [
      "\rIteration 19\tTotal Reward 4984.308523\tMean Reward 262.332028   "
     ]
    },
    {
     "name": "stdout",
     "output_type": "stream",
     "text": [
      "\rIteration 29\tTotal Reward 6006.224213\tMean Reward 207.111180   \rIteration 39\tTotal Reward 7350.291104\tMean Reward 188.469003   "
     ]
    },
    {
     "name": "stdout",
     "output_type": "stream",
     "text": [
      "\rIteration 49\tTotal Reward 8079.921503\tMean Reward 164.896357   "
     ]
    },
    {
     "name": "stdout",
     "output_type": "stream",
     "text": [
      "\rIteration 59\tTotal Reward 9309.384844\tMean Reward 157.786184   "
     ]
    },
    {
     "name": "stdout",
     "output_type": "stream",
     "text": [
      "\rIteration 69\tTotal Reward 10760.858833\tMean Reward 155.954476   "
     ]
    },
    {
     "name": "stdout",
     "output_type": "stream",
     "text": [
      "\rIteration 79\tTotal Reward 11475.467624\tMean Reward 145.259084   "
     ]
    },
    {
     "name": "stdout",
     "output_type": "stream",
     "text": [
      "\rIteration 89\tTotal Reward 12768.347180\tMean Reward 143.464575   "
     ]
    },
    {
     "name": "stdout",
     "output_type": "stream",
     "text": [
      "\rIteration 99\tTotal Reward 16092.612205\tMean Reward 162.551638   Total reward : 16092.612204728983\nMean reward : 160.92612204728982\n"
     ]
    },
    {
     "name": "stdout",
     "output_type": "stream",
     "text": [
      "\rIteration 9\tTotal Reward 2728.230094\tMean Reward 303.136677   "
     ]
    },
    {
     "name": "stdout",
     "output_type": "stream",
     "text": [
      "\rIteration 19\tTotal Reward 5348.998447\tMean Reward 281.526234   "
     ]
    },
    {
     "name": "stdout",
     "output_type": "stream",
     "text": [
      "\rIteration 29\tTotal Reward 8166.568120\tMean Reward 281.605797   "
     ]
    },
    {
     "name": "stdout",
     "output_type": "stream",
     "text": [
      "\rIteration 39\tTotal Reward 10078.324591\tMean Reward 258.418579   "
     ]
    },
    {
     "name": "stdout",
     "output_type": "stream",
     "text": [
      "\rIteration 49\tTotal Reward 14159.946174\tMean Reward 288.978493   "
     ]
    },
    {
     "name": "stdout",
     "output_type": "stream",
     "text": [
      "\rIteration 59\tTotal Reward 14159.946174\tMean Reward 239.999088   "
     ]
    },
    {
     "name": "stdout",
     "output_type": "stream",
     "text": [
      "\rIteration 69\tTotal Reward 16685.526875\tMean Reward 241.819230   "
     ]
    },
    {
     "name": "stdout",
     "output_type": "stream",
     "text": [
      "\rIteration 79\tTotal Reward 18271.593061\tMean Reward 231.285988   \rIteration 89\tTotal Reward 18646.510635\tMean Reward 209.511355   "
     ]
    },
    {
     "name": "stdout",
     "output_type": "stream",
     "text": [
      "\rIteration 99\tTotal Reward 22189.213127\tMean Reward 224.133466   Total reward : 22189.213127465802\nMean reward : 221.89213127465803\n"
     ]
    },
    {
     "name": "stdout",
     "output_type": "stream",
     "text": [
      "\rIteration 9\tTotal Reward 902.313770\tMean Reward 100.257086   \rIteration 19\tTotal Reward 3593.259288\tMean Reward 189.118910   "
     ]
    },
    {
     "name": "stdout",
     "output_type": "stream",
     "text": [
      "\rIteration 29\tTotal Reward 5397.886828\tMean Reward 186.134029   \rIteration 39\tTotal Reward 7112.074339\tMean Reward 182.360880   "
     ]
    },
    {
     "name": "stdout",
     "output_type": "stream",
     "text": [
      "\rIteration 49\tTotal Reward 9629.410124\tMean Reward 196.518574   "
     ]
    },
    {
     "name": "stdout",
     "output_type": "stream",
     "text": [
      "\rIteration 59\tTotal Reward 9629.410124\tMean Reward 163.210341   "
     ]
    },
    {
     "name": "stdout",
     "output_type": "stream",
     "text": [
      "\rIteration 69\tTotal Reward 13670.971367\tMean Reward 198.130020   \rIteration 79\tTotal Reward 15558.268088\tMean Reward 196.940102   "
     ]
    },
    {
     "name": "stdout",
     "output_type": "stream",
     "text": [
      "\rIteration 89\tTotal Reward 17745.273774\tMean Reward 199.385099   "
     ]
    },
    {
     "name": "stdout",
     "output_type": "stream",
     "text": [
      "\rIteration 99\tTotal Reward 22182.852482\tMean Reward 224.069217   Total reward : 22846.398671163857\nMean reward : 228.46398671163857\n"
     ]
    },
    {
     "name": "stdout",
     "output_type": "stream",
     "text": [
      "\rIteration 9\tTotal Reward 861.942843\tMean Reward 95.771427   \rIteration 19\tTotal Reward 3521.328998\tMean Reward 185.333105   "
     ]
    },
    {
     "name": "stdout",
     "output_type": "stream",
     "text": [
      "\rIteration 29\tTotal Reward 5281.993497\tMean Reward 182.137707   \rIteration 39\tTotal Reward 9401.856612\tMean Reward 241.073246   "
     ]
    },
    {
     "name": "stdout",
     "output_type": "stream",
     "text": [
      "\rIteration 49\tTotal Reward 12015.796576\tMean Reward 245.220338   "
     ]
    },
    {
     "name": "stdout",
     "output_type": "stream",
     "text": [
      "\rIteration 59\tTotal Reward 14261.969275\tMean Reward 241.728293   "
     ]
    },
    {
     "name": "stdout",
     "output_type": "stream",
     "text": [
      "\rIteration 69\tTotal Reward 16454.410869\tMean Reward 238.469723   "
     ]
    },
    {
     "name": "stdout",
     "output_type": "stream",
     "text": [
      "\rIteration 79\tTotal Reward 20663.526151\tMean Reward 261.563622   "
     ]
    },
    {
     "name": "stdout",
     "output_type": "stream",
     "text": [
      "\rIteration 89\tTotal Reward 22387.411837\tMean Reward 251.543953   "
     ]
    },
    {
     "name": "stdout",
     "output_type": "stream",
     "text": [
      "\rIteration 99\tTotal Reward 24741.156329\tMean Reward 249.910670   Total reward : 24741.156328728925\nMean reward : 247.41156328728925\n"
     ]
    },
    {
     "name": "stdout",
     "output_type": "stream",
     "text": [
      "\rIteration 9\tTotal Reward 77.716591\tMean Reward 8.635177   "
     ]
    },
    {
     "name": "stdout",
     "output_type": "stream",
     "text": [
      "\rIteration 19\tTotal Reward 406.746308\tMean Reward 21.407700   \rIteration 29\tTotal Reward 562.179490\tMean Reward 19.385500   "
     ]
    },
    {
     "name": "stdout",
     "output_type": "stream",
     "text": [
      "\rIteration 39\tTotal Reward 1056.258570\tMean Reward 27.083553   "
     ]
    },
    {
     "name": "stdout",
     "output_type": "stream",
     "text": [
      "\rIteration 49\tTotal Reward 1676.275142\tMean Reward 34.209697   "
     ]
    },
    {
     "name": "stdout",
     "output_type": "stream",
     "text": [
      "\rIteration 59\tTotal Reward 2005.304859\tMean Reward 33.988218   "
     ]
    },
    {
     "name": "stdout",
     "output_type": "stream",
     "text": [
      "\rIteration 69\tTotal Reward 2005.304859\tMean Reward 29.062389   \rIteration 79\tTotal Reward 2308.784549\tMean Reward 29.225121   "
     ]
    },
    {
     "name": "stdout",
     "output_type": "stream",
     "text": [
      "\rIteration 89\tTotal Reward 2824.219262\tMean Reward 31.732801   \rIteration 99\tTotal Reward 2979.652445\tMean Reward 30.097499   "
     ]
    },
    {
     "name": "stdout",
     "output_type": "stream",
     "text": [
      "Total reward : 2979.652444858364\nMean reward : 29.79652444858364\n"
     ]
    },
    {
     "name": "stdout",
     "output_type": "stream",
     "text": [
      "\rIteration 9\tTotal Reward 2694.894544\tMean Reward 299.432727   \rIteration 19\tTotal Reward 4552.687636\tMean Reward 239.615139   "
     ]
    },
    {
     "name": "stdout",
     "output_type": "stream",
     "text": [
      "\rIteration 29\tTotal Reward 7921.911949\tMean Reward 273.169378   "
     ]
    },
    {
     "name": "stdout",
     "output_type": "stream",
     "text": [
      "\rIteration 39\tTotal Reward 9712.189102\tMean Reward 249.030490   "
     ]
    },
    {
     "name": "stdout",
     "output_type": "stream",
     "text": [
      "\rIteration 49\tTotal Reward 13716.389722\tMean Reward 279.926321   \rIteration 59\tTotal Reward 14696.533257\tMean Reward 249.093784   "
     ]
    },
    {
     "name": "stdout",
     "output_type": "stream",
     "text": [
      "\rIteration 69\tTotal Reward 17465.516902\tMean Reward 253.123433   "
     ]
    },
    {
     "name": "stdout",
     "output_type": "stream",
     "text": [
      "\rIteration 79\tTotal Reward 19425.803973\tMean Reward 245.896253   "
     ]
    },
    {
     "name": "stdout",
     "output_type": "stream",
     "text": [
      "\rIteration 89\tTotal Reward 20281.756314\tMean Reward 227.884902   "
     ]
    },
    {
     "name": "stdout",
     "output_type": "stream",
     "text": [
      "\rIteration 99\tTotal Reward 24904.357380\tMean Reward 251.559165   Total reward : 24904.35737953922\nMean reward : 249.04357379539218\n"
     ]
    },
    {
     "name": "stdout",
     "output_type": "stream",
     "text": [
      "\rIteration 9\tTotal Reward 1352.166817\tMean Reward 150.240757   \rIteration 19\tTotal Reward 3210.671143\tMean Reward 168.982692   "
     ]
    },
    {
     "name": "stdout",
     "output_type": "stream",
     "text": [
      "\rIteration 29\tTotal Reward 5255.723868\tMean Reward 181.231858   \rIteration 39\tTotal Reward 7307.276559\tMean Reward 187.366066   "
     ]
    },
    {
     "name": "stdout",
     "output_type": "stream",
     "text": [
      "\rIteration 49\tTotal Reward 8841.877132\tMean Reward 180.446472   \rIteration 59\tTotal Reward 10425.451355\tMean Reward 176.702565   "
     ]
    },
    {
     "name": "stdout",
     "output_type": "stream",
     "text": [
      "\rIteration 69\tTotal Reward 14119.674588\tMean Reward 204.632965   \rIteration 79\tTotal Reward 15692.942515\tMean Reward 198.644842   "
     ]
    },
    {
     "name": "stdout",
     "output_type": "stream",
     "text": [
      "\rIteration 89\tTotal Reward 19518.777112\tMean Reward 219.312102   \rIteration 99\tTotal Reward 21235.972450\tMean Reward 214.504772   "
     ]
    },
    {
     "name": "stdout",
     "output_type": "stream",
     "text": [
      "Total reward : 21235.972449661363\nMean reward : 212.35972449661364\n"
     ]
    },
    {
     "name": "stdout",
     "output_type": "stream",
     "text": [
      "\rIteration 9\tTotal Reward 3083.171744\tMean Reward 342.574638   \rIteration 19\tTotal Reward 6564.678657\tMean Reward 345.509403   "
     ]
    },
    {
     "name": "stdout",
     "output_type": "stream",
     "text": [
      "\rIteration 29\tTotal Reward 7169.336870\tMean Reward 247.218513   \rIteration 39\tTotal Reward 11077.448682\tMean Reward 284.037146   "
     ]
    },
    {
     "name": "stdout",
     "output_type": "stream",
     "text": [
      "\rIteration 49\tTotal Reward 14117.786993\tMean Reward 288.118102   "
     ]
    },
    {
     "name": "stdout",
     "output_type": "stream",
     "text": [
      "\rIteration 59\tTotal Reward 15738.492001\tMean Reward 266.754102   "
     ]
    },
    {
     "name": "stdout",
     "output_type": "stream",
     "text": [
      "\rIteration 69\tTotal Reward 18178.171332\tMean Reward 263.451758   "
     ]
    },
    {
     "name": "stdout",
     "output_type": "stream",
     "text": [
      "\rIteration 79\tTotal Reward 18918.215913\tMean Reward 239.471088   \rIteration 89\tTotal Reward 22462.064372\tMean Reward 252.382746   "
     ]
    },
    {
     "name": "stdout",
     "output_type": "stream",
     "text": [
      "\rIteration 99\tTotal Reward 23084.935403\tMean Reward 233.181166   Total reward : 23084.935402878476\nMean reward : 230.84935402878477\n"
     ]
    },
    {
     "name": "stdout",
     "output_type": "stream",
     "text": [
      "\rIteration 9\tTotal Reward 1634.046944\tMean Reward 181.560772   \rIteration 19\tTotal Reward 3780.585957\tMean Reward 198.978208   "
     ]
    },
    {
     "name": "stdout",
     "output_type": "stream",
     "text": [
      "\rIteration 29\tTotal Reward 4469.775417\tMean Reward 154.130187   "
     ]
    },
    {
     "name": "stdout",
     "output_type": "stream",
     "text": [
      "\rIteration 39\tTotal Reward 5464.518891\tMean Reward 140.115869   "
     ]
    },
    {
     "name": "stdout",
     "output_type": "stream",
     "text": [
      "\rIteration 49\tTotal Reward 6245.453406\tMean Reward 127.458233   "
     ]
    },
    {
     "name": "stdout",
     "output_type": "stream",
     "text": [
      "\rIteration 59\tTotal Reward 9260.050102\tMean Reward 156.950002   "
     ]
    },
    {
     "name": "stdout",
     "output_type": "stream",
     "text": [
      "\rIteration 69\tTotal Reward 12512.024272\tMean Reward 181.333685   "
     ]
    },
    {
     "name": "stdout",
     "output_type": "stream",
     "text": [
      "\rIteration 79\tTotal Reward 16665.387408\tMean Reward 210.954271   "
     ]
    },
    {
     "name": "stdout",
     "output_type": "stream",
     "text": [
      "\rIteration 89\tTotal Reward 18258.099941\tMean Reward 205.147190   "
     ]
    },
    {
     "name": "stdout",
     "output_type": "stream",
     "text": [
      "\rIteration 99\tTotal Reward 21722.273616\tMean Reward 219.416905   Total reward : 21722.273615904287\nMean reward : 217.22273615904288\n"
     ]
    },
    {
     "name": "stdout",
     "output_type": "stream",
     "text": [
      "\rIteration 9\tTotal Reward 3386.848979\tMean Reward 376.316553   "
     ]
    },
    {
     "name": "stdout",
     "output_type": "stream",
     "text": [
      "\rIteration 19\tTotal Reward 7443.682304\tMean Reward 391.772753   "
     ]
    },
    {
     "name": "stdout",
     "output_type": "stream",
     "text": [
      "\rIteration 29\tTotal Reward 8311.535274\tMean Reward 286.604665   "
     ]
    },
    {
     "name": "stdout",
     "output_type": "stream",
     "text": [
      "\rIteration 39\tTotal Reward 12260.218748\tMean Reward 314.364583   "
     ]
    },
    {
     "name": "stdout",
     "output_type": "stream",
     "text": [
      "\rIteration 49\tTotal Reward 13575.174400\tMean Reward 277.044376   "
     ]
    },
    {
     "name": "stdout",
     "output_type": "stream",
     "text": [
      "\rIteration 59\tTotal Reward 15310.880340\tMean Reward 259.506446   "
     ]
    }
   ],
   "source": [
    "class Argument:\n",
    "    pass\n",
    "\n",
    "\n",
    "list_reward = []\n",
    "\n",
    "for _ in range(100):\n",
    "    args = Argument\n",
    "    args.user_id = 'R3EIFXNYY6XMBXBR01BK'\n",
    "    args.ip_address_env_0 = '52.47.62.31'\n",
    "    args.ip_address_env_1 = '35.180.254.42'\n",
    "    args.ip_address_env_2 = '35.180.178.243'\n",
    "\n",
    "    interface = Interface(args)\n",
    "    trainer = Trainer(interface)\n",
    "    interface.reset()\n",
    "    trainer.reset()\n",
    "\n",
    "    reward = 0\n",
    "    nb_iter = 100\n",
    "\n",
    "    for k in range(nb_iter):\n",
    "        if (k % 10 == 9):\n",
    "            print(\"\\rIteration {}\\tTotal Reward {:5f}\\tMean Reward {:5f}   \".format(\n",
    "                k, reward, reward / k), end=\"\")\n",
    "        # makes a prediction, returns the reward and update the network\n",
    "        reward += trainer.online()\n",
    "\n",
    "    print(\"Total reward : \" + str(reward))\n",
    "    print(\"Mean reward : \" + str(reward / nb_iter))\n",
    "    list_reward.append(reward)\n",
    "plt.hist(list_reward, bins=5)\n",
    "print('mean: {}'.format(np.mean(list_reward)))\n",
    "print('variance: {}'.format(np.std(list_reward)))\n",
    "plt.show()"
   ]
  },
  {
   "cell_type": "code",
   "execution_count": null,
   "metadata": {},
   "outputs": [],
   "source": [
    ""
   ]
  }
 ],
 "metadata": {
  "kernelspec": {
   "display_name": "Python 3",
   "language": "python",
   "name": "python3"
  },
  "language_info": {
   "codemirror_mode": {
    "name": "ipython",
    "version": 3
   },
   "file_extension": ".py",
   "mimetype": "text/x-python",
   "name": "python",
   "nbconvert_exporter": "python",
   "pygments_lexer": "ipython3",
   "version": "3.6.7"
  }
 },
 "nbformat": 4,
 "nbformat_minor": 2
}
